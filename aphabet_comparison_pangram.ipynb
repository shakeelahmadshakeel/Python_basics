{
 "cells": [
  {
   "cell_type": "code",
   "execution_count": 15,
   "id": "08dfc9e5",
   "metadata": {},
   "outputs": [],
   "source": [
    "#Write a Python function to check whether a string is pangram or not. \n",
    "#(Assume the string passed in does not have any punctuation)\n",
    "\n",
    "import string\n",
    "alphabet=string.ascii_lowercase # built in method in string module contains all aplhphabet in lower case\n",
    "\n",
    "def ispangram(str1, alphabet): \n",
    "    # Create a set of the alphabet\n",
    "    alphaset = set(alphabet)  \n",
    "    print(alphaset)\n",
    " \n",
    "    # Remove spaces from str1\n",
    "    str1 = str1.replace(\" \",'')\n",
    "    print(str1)\n",
    "    # Lowercase all strings in the passed in string\n",
    "    # Recall we assume no punctuation \n",
    "    str1 = str1.lower()\n",
    "    print(str1)\n",
    "    # Grab all unique letters in the string as a set\n",
    "    str1 = set(str1)\n",
    "    print(str1)\n",
    "    # Now check that the alpahbet set is same as string set\n",
    "    return str1 == alphaset\n"
   ]
  },
  {
   "cell_type": "code",
   "execution_count": 16,
   "id": "d5d4374c",
   "metadata": {},
   "outputs": [
    {
     "name": "stdout",
     "output_type": "stream",
     "text": [
      "{'s', 'b', 'v', 't', 'z', 'd', 'g', 'j', 'y', 'm', 'w', 'a', 'p', 'u', 'l', 'i', 'n', 'x', 'c', 'k', 'o', 'q', 'f', 'h', 'r', 'e'}\n",
      "Thequickbrownfoxjumpsoverthelazydog\n",
      "thequickbrownfoxjumpsoverthelazydog\n",
      "{'s', 'b', 'v', 't', 'z', 'd', 'g', 'j', 'y', 'm', 'w', 'a', 'p', 'u', 'l', 'i', 'n', 'x', 'c', 'k', 'o', 'q', 'f', 'h', 'r', 'e'}\n"
     ]
    },
    {
     "data": {
      "text/plain": [
       "True"
      ]
     },
     "execution_count": 16,
     "metadata": {},
     "output_type": "execute_result"
    }
   ],
   "source": [
    "ispangram(\"The quick brown fox jumps over the lazy dog\", alphabet)"
   ]
  },
  {
   "cell_type": "code",
   "execution_count": null,
   "id": "5c6253c1",
   "metadata": {},
   "outputs": [],
   "source": []
  }
 ],
 "metadata": {
  "kernelspec": {
   "display_name": "Python 3 (ipykernel)",
   "language": "python",
   "name": "python3"
  },
  "language_info": {
   "codemirror_mode": {
    "name": "ipython",
    "version": 3
   },
   "file_extension": ".py",
   "mimetype": "text/x-python",
   "name": "python",
   "nbconvert_exporter": "python",
   "pygments_lexer": "ipython3",
   "version": "3.9.12"
  }
 },
 "nbformat": 4,
 "nbformat_minor": 5
}
