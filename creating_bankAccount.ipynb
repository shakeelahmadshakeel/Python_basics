{
 "cells": [
  {
   "cell_type": "code",
   "execution_count": 98,
   "id": "1d93a7d4",
   "metadata": {},
   "outputs": [],
   "source": [
    "from IPython.display import clear_output\n",
    "\n",
    "class Account:\n",
    "    def __init__(self, owner,balance):\n",
    "        self.owner=owner\n",
    "        self.balance=balance\n",
    "        clear_output()\n",
    "        print('owner: {} balance: {}'.format(self.owner, self.balance))\n",
    "        #print(f\"Owner: {self.owner} balance: {self.balance}\")\n",
    "    def deposit(self,newbalance):\n",
    "        if newbalance>0:\n",
    "            self.balance=self.balance+newbalance\n",
    "            print(\"deposit accepted\")\n",
    "            print(f\"Added {newbalance} to the balance\")\n",
    "        elif newbalance<0:\n",
    "            print(\"deposit cannot accepted\")\n",
    "    def withdraw(self, draw_money):\n",
    "        if draw_money<=self.balance:\n",
    "            self.balance=self.balance-draw_money\n",
    "            print(\"withdrwal accepted\")\n",
    "        else:\n",
    "            print(\"withdrawl cannot accpeted, not enough funds\")\n",
    "    def __str__(self): # made to see object a otherwise we just get memory location if we print(a) without this initialize method\n",
    "        #this is called magic\\dunder method\n",
    "        return f\"Owner: {self.owner} \\nbalance: {self.balance}\"\n",
    "        "
   ]
  },
  {
   "cell_type": "code",
   "execution_count": 99,
   "id": "58ff34e5",
   "metadata": {},
   "outputs": [
    {
     "name": "stdout",
     "output_type": "stream",
     "text": [
      "owner: Ali balance: 100\n",
      "Owner: Ali \n",
      "balance: 100\n"
     ]
    }
   ],
   "source": [
    "a=Account(\"Ali\", int(input(\"enter your balance\")))\n",
    "print(a)\n"
   ]
  },
  {
   "cell_type": "code",
   "execution_count": 93,
   "id": "f6c0724e",
   "metadata": {},
   "outputs": [
    {
     "name": "stdout",
     "output_type": "stream",
     "text": [
      "deposit accepted\n",
      "Added 50 to the balance\n"
     ]
    }
   ],
   "source": [
    "a.deposit(50)"
   ]
  },
  {
   "cell_type": "code",
   "execution_count": 94,
   "id": "5837bfd9",
   "metadata": {},
   "outputs": [
    {
     "data": {
      "text/plain": [
       "150"
      ]
     },
     "execution_count": 94,
     "metadata": {},
     "output_type": "execute_result"
    }
   ],
   "source": [
    "a.balance"
   ]
  },
  {
   "cell_type": "code",
   "execution_count": 95,
   "id": "41b571c0",
   "metadata": {},
   "outputs": [
    {
     "name": "stdout",
     "output_type": "stream",
     "text": [
      "withdrwal accepted\n"
     ]
    }
   ],
   "source": [
    "a.withdraw(70)"
   ]
  },
  {
   "cell_type": "code",
   "execution_count": 79,
   "id": "2bcdc873",
   "metadata": {},
   "outputs": [
    {
     "data": {
      "text/plain": [
       "80"
      ]
     },
     "execution_count": 79,
     "metadata": {},
     "output_type": "execute_result"
    }
   ],
   "source": [
    "a.balance"
   ]
  },
  {
   "cell_type": "code",
   "execution_count": 80,
   "id": "05d25a8e",
   "metadata": {},
   "outputs": [
    {
     "name": "stdout",
     "output_type": "stream",
     "text": [
      "deposit accepted\n"
     ]
    }
   ],
   "source": [
    "a.deposit(100)"
   ]
  },
  {
   "cell_type": "code",
   "execution_count": 81,
   "id": "c08fbae3",
   "metadata": {},
   "outputs": [
    {
     "data": {
      "text/plain": [
       "180"
      ]
     },
     "execution_count": 81,
     "metadata": {},
     "output_type": "execute_result"
    }
   ],
   "source": [
    "a.balance"
   ]
  },
  {
   "cell_type": "code",
   "execution_count": 82,
   "id": "feeda52a",
   "metadata": {},
   "outputs": [
    {
     "name": "stdout",
     "output_type": "stream",
     "text": [
      "withdrwal accepted\n"
     ]
    }
   ],
   "source": [
    "a.withdraw(80)"
   ]
  },
  {
   "cell_type": "code",
   "execution_count": 83,
   "id": "1130a115",
   "metadata": {},
   "outputs": [
    {
     "data": {
      "text/plain": [
       "100"
      ]
     },
     "execution_count": 83,
     "metadata": {},
     "output_type": "execute_result"
    }
   ],
   "source": [
    "a.balance"
   ]
  },
  {
   "cell_type": "code",
   "execution_count": 84,
   "id": "cf248d8d",
   "metadata": {},
   "outputs": [
    {
     "name": "stdout",
     "output_type": "stream",
     "text": [
      "withdrwal accepted\n"
     ]
    }
   ],
   "source": [
    "a.withdraw(100)"
   ]
  },
  {
   "cell_type": "code",
   "execution_count": 85,
   "id": "50fe76d0",
   "metadata": {},
   "outputs": [
    {
     "data": {
      "text/plain": [
       "0"
      ]
     },
     "execution_count": 85,
     "metadata": {},
     "output_type": "execute_result"
    }
   ],
   "source": [
    "a.balance"
   ]
  },
  {
   "cell_type": "code",
   "execution_count": 86,
   "id": "e07f1950",
   "metadata": {},
   "outputs": [
    {
     "name": "stdout",
     "output_type": "stream",
     "text": [
      "withdrawl cannot accpeted\n"
     ]
    }
   ],
   "source": [
    "a.withdraw(100)"
   ]
  },
  {
   "cell_type": "code",
   "execution_count": 48,
   "id": "41cb4c22",
   "metadata": {},
   "outputs": [
    {
     "name": "stdout",
     "output_type": "stream",
     "text": [
      "owner: Ali, balance: 100\n"
     ]
    },
    {
     "data": {
      "text/plain": [
       "'Ali'"
      ]
     },
     "execution_count": 48,
     "metadata": {},
     "output_type": "execute_result"
    }
   ],
   "source": [
    "a=Account(\"Ali\", 100)\n",
    "a.owner\n",
    "\n"
   ]
  },
  {
   "cell_type": "code",
   "execution_count": 37,
   "id": "2d9972a2",
   "metadata": {},
   "outputs": [
    {
     "data": {
      "text/plain": [
       "100"
      ]
     },
     "execution_count": 37,
     "metadata": {},
     "output_type": "execute_result"
    }
   ],
   "source": [
    "a.balance"
   ]
  },
  {
   "cell_type": "code",
   "execution_count": 70,
   "id": "2448eb3a",
   "metadata": {},
   "outputs": [
    {
     "ename": "SyntaxError",
     "evalue": "invalid syntax (171737162.py, line 1)",
     "output_type": "error",
     "traceback": [
      "\u001b[1;36m  Input \u001b[1;32mIn [70]\u001b[1;36m\u001b[0m\n\u001b[1;33m    100 not >= 50\u001b[0m\n\u001b[1;37m            ^\u001b[0m\n\u001b[1;31mSyntaxError\u001b[0m\u001b[1;31m:\u001b[0m invalid syntax\n"
     ]
    }
   ],
   "source": [
    "100 >= 50\n"
   ]
  },
  {
   "cell_type": "code",
   "execution_count": null,
   "id": "7ed1c840",
   "metadata": {},
   "outputs": [],
   "source": []
  }
 ],
 "metadata": {
  "kernelspec": {
   "display_name": "Python 3 (ipykernel)",
   "language": "python",
   "name": "python3"
  },
  "language_info": {
   "codemirror_mode": {
    "name": "ipython",
    "version": 3
   },
   "file_extension": ".py",
   "mimetype": "text/x-python",
   "name": "python",
   "nbconvert_exporter": "python",
   "pygments_lexer": "ipython3",
   "version": "3.9.12"
  }
 },
 "nbformat": 4,
 "nbformat_minor": 5
}
