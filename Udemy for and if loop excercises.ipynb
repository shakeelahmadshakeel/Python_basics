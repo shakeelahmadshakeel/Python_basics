{
 "cells": [
  {
   "cell_type": "code",
   "execution_count": null,
   "id": "4f0d5a06",
   "metadata": {},
   "outputs": [],
   "source": [
    "n=[5,4,3]"
   ]
  },
  {
   "cell_type": "code",
   "execution_count": null,
   "id": "afd8a1e1",
   "metadata": {},
   "outputs": [],
   "source": [
    "n.sort()"
   ]
  },
  {
   "cell_type": "code",
   "execution_count": null,
   "id": "20e2068d",
   "metadata": {},
   "outputs": [],
   "source": [
    "n"
   ]
  },
  {
   "cell_type": "code",
   "execution_count": null,
   "id": "6f9a748d",
   "metadata": {},
   "outputs": [],
   "source": [
    "pwd"
   ]
  },
  {
   "cell_type": "code",
   "execution_count": null,
   "id": "ea762e50",
   "metadata": {},
   "outputs": [],
   "source": [
    "(((10*10)/10)**2)+1-.75"
   ]
  },
  {
   "cell_type": "code",
   "execution_count": null,
   "id": "73606377",
   "metadata": {},
   "outputs": [],
   "source": [
    "4 * (6 + 5)"
   ]
  },
  {
   "cell_type": "code",
   "execution_count": null,
   "id": "d4167668",
   "metadata": {},
   "outputs": [],
   "source": [
    "4 * 6 + 5"
   ]
  },
  {
   "cell_type": "code",
   "execution_count": null,
   "id": "da374e73",
   "metadata": {},
   "outputs": [],
   "source": [
    "import math"
   ]
  },
  {
   "cell_type": "code",
   "execution_count": null,
   "id": "86a10362",
   "metadata": {},
   "outputs": [],
   "source": [
    "math.sqrt(25)"
   ]
  },
  {
   "cell_type": "code",
   "execution_count": null,
   "id": "f0996f89",
   "metadata": {},
   "outputs": [],
   "source": [
    "s=\"hello\"\n"
   ]
  },
  {
   "cell_type": "code",
   "execution_count": null,
   "id": "c367c4ef",
   "metadata": {},
   "outputs": [],
   "source": [
    "s[::-1]\n"
   ]
  },
  {
   "cell_type": "code",
   "execution_count": null,
   "id": "cdbeaa0e",
   "metadata": {},
   "outputs": [],
   "source": [
    "list3 = [1,2,[3,4,'hello']]"
   ]
  },
  {
   "cell_type": "code",
   "execution_count": null,
   "id": "6e5e1d68",
   "metadata": {},
   "outputs": [],
   "source": [
    "list3[2][2]=\"goodbye\""
   ]
  },
  {
   "cell_type": "code",
   "execution_count": null,
   "id": "127821f6",
   "metadata": {},
   "outputs": [],
   "source": [
    "list3"
   ]
  },
  {
   "cell_type": "code",
   "execution_count": null,
   "id": "6adac756",
   "metadata": {},
   "outputs": [],
   "source": [
    "list3[2].insert(2,'goodbye')"
   ]
  },
  {
   "cell_type": "code",
   "execution_count": null,
   "id": "86aad53a",
   "metadata": {},
   "outputs": [],
   "source": [
    "list3"
   ]
  },
  {
   "cell_type": "code",
   "execution_count": null,
   "id": "5f894ba8",
   "metadata": {},
   "outputs": [],
   "source": [
    "list3[2].remove('hello')"
   ]
  },
  {
   "cell_type": "code",
   "execution_count": null,
   "id": "065d779f",
   "metadata": {},
   "outputs": [],
   "source": [
    "list3"
   ]
  },
  {
   "cell_type": "code",
   "execution_count": null,
   "id": "083b0631",
   "metadata": {},
   "outputs": [],
   "source": [
    "list3[2].remove(\"hello\")"
   ]
  },
  {
   "cell_type": "code",
   "execution_count": null,
   "id": "79a200e6",
   "metadata": {},
   "outputs": [],
   "source": [
    "list3"
   ]
  },
  {
   "cell_type": "code",
   "execution_count": null,
   "id": "3e46da9c",
   "metadata": {},
   "outputs": [],
   "source": [
    "list4 = [5,3,4,6,1]"
   ]
  },
  {
   "cell_type": "code",
   "execution_count": null,
   "id": "fce1e5b5",
   "metadata": {},
   "outputs": [],
   "source": [
    "list4.sort()"
   ]
  },
  {
   "cell_type": "code",
   "execution_count": null,
   "id": "a19cfdf0",
   "metadata": {},
   "outputs": [],
   "source": [
    "list4"
   ]
  },
  {
   "cell_type": "code",
   "execution_count": null,
   "id": "0b0bf280",
   "metadata": {},
   "outputs": [],
   "source": [
    "d = {'simple_key':'hello'}"
   ]
  },
  {
   "cell_type": "code",
   "execution_count": null,
   "id": "0630cce2",
   "metadata": {},
   "outputs": [],
   "source": [
    "d['simple_key']"
   ]
  },
  {
   "cell_type": "code",
   "execution_count": null,
   "id": "7e18f7fb",
   "metadata": {},
   "outputs": [],
   "source": [
    "d = {'k1':{'k2':'hello'}}"
   ]
  },
  {
   "cell_type": "code",
   "execution_count": null,
   "id": "75c7b05d",
   "metadata": {},
   "outputs": [],
   "source": [
    "d['k1']['k2']"
   ]
  },
  {
   "cell_type": "code",
   "execution_count": null,
   "id": "43c160a8",
   "metadata": {},
   "outputs": [],
   "source": [
    "d = {'k1':[{'nest_key':['this is deep',['hello']]}]}"
   ]
  },
  {
   "cell_type": "code",
   "execution_count": null,
   "id": "10235fdc",
   "metadata": {},
   "outputs": [],
   "source": [
    "list_d=d['k1']"
   ]
  },
  {
   "cell_type": "code",
   "execution_count": null,
   "id": "76ed46d2",
   "metadata": {},
   "outputs": [],
   "source": [
    "list_d"
   ]
  },
  {
   "cell_type": "code",
   "execution_count": null,
   "id": "3be2cd4d",
   "metadata": {},
   "outputs": [],
   "source": [
    "dict_d=list_d[0]"
   ]
  },
  {
   "cell_type": "code",
   "execution_count": null,
   "id": "0736580e",
   "metadata": {},
   "outputs": [],
   "source": [
    "dict_d"
   ]
  },
  {
   "cell_type": "code",
   "execution_count": null,
   "id": "c623e79b",
   "metadata": {},
   "outputs": [],
   "source": [
    "list1_d=dict_d['nest_key']"
   ]
  },
  {
   "cell_type": "code",
   "execution_count": null,
   "id": "b9ab3635",
   "metadata": {},
   "outputs": [],
   "source": [
    "list1_d"
   ]
  },
  {
   "cell_type": "code",
   "execution_count": null,
   "id": "61844787",
   "metadata": {},
   "outputs": [],
   "source": [
    "list1_d[1][0]"
   ]
  },
  {
   "cell_type": "code",
   "execution_count": null,
   "id": "8ca6209d",
   "metadata": {},
   "outputs": [],
   "source": [
    "list5 = [1,2,2,33,4,4,11,22,3,3,2]"
   ]
  },
  {
   "cell_type": "code",
   "execution_count": null,
   "id": "551c559e",
   "metadata": {},
   "outputs": [],
   "source": [
    "set(list5)"
   ]
  },
  {
   "cell_type": "code",
   "execution_count": null,
   "id": "29be1a8c",
   "metadata": {},
   "outputs": [],
   "source": [
    "3.0 == 3"
   ]
  },
  {
   "cell_type": "code",
   "execution_count": null,
   "id": "667a010f",
   "metadata": {},
   "outputs": [],
   "source": [
    "4**0.5 != 2"
   ]
  },
  {
   "cell_type": "code",
   "execution_count": null,
   "id": "e5d38c3f",
   "metadata": {},
   "outputs": [],
   "source": [
    "l_one = [1,2,[3,4]]\n",
    "l_two = [1,2,{'k1':4}]"
   ]
  },
  {
   "cell_type": "code",
   "execution_count": null,
   "id": "a56ee273",
   "metadata": {},
   "outputs": [],
   "source": [
    "l_one[2][0] >= l_two[2]['k1']"
   ]
  },
  {
   "cell_type": "code",
   "execution_count": null,
   "id": "227ef589",
   "metadata": {},
   "outputs": [],
   "source": [
    "d={\"k1\":1, \"k2\":2, \"k3\":3}\n",
    "for key in d.keys():\n",
    "    print(key)"
   ]
  },
  {
   "cell_type": "code",
   "execution_count": null,
   "id": "5b001059",
   "metadata": {},
   "outputs": [],
   "source": [
    "list_sum=0\n",
    "mylist=[1,2,3]\n",
    "for num in mylist:\n",
    "    list_sum=list_sum+num\n",
    "    print(list_sum)\n",
    "print(\"out of loop sum is:\", list_sum)"
   ]
  },
  {
   "cell_type": "code",
   "execution_count": null,
   "id": "8f88b587",
   "metadata": {},
   "outputs": [],
   "source": [
    "#Use for, .split(), and if to create a Statement that will print out words that start with 's':\n",
    "st = 'Print only the words that start with s in this sentence'\n",
    "for i in st:\n",
    "    if i==\"s\" in st:\n",
    "        print(i)"
   ]
  },
  {
   "cell_type": "code",
   "execution_count": null,
   "id": "a72f1049",
   "metadata": {},
   "outputs": [],
   "source": [
    "st = 'Print only the words that start with s in this sentence'\n",
    "x=st.split()\n",
    "print(x[5])\n",
    "print(x[7])\n",
    "print(x[10])\n"
   ]
  },
  {
   "cell_type": "code",
   "execution_count": null,
   "id": "fcc8300b",
   "metadata": {},
   "outputs": [],
   "source": [
    "st = 'Print only the words that start with s in this sentence'"
   ]
  },
  {
   "cell_type": "code",
   "execution_count": null,
   "id": "869aa0e5",
   "metadata": {},
   "outputs": [],
   "source": [
    "x=st.split()"
   ]
  },
  {
   "cell_type": "code",
   "execution_count": null,
   "id": "348452e6",
   "metadata": {},
   "outputs": [],
   "source": [
    "x"
   ]
  },
  {
   "cell_type": "code",
   "execution_count": null,
   "id": "75e3138c",
   "metadata": {},
   "outputs": [],
   "source": [
    "for word in x:\n",
    "    if word[0]=='s':\n",
    "        print(word)"
   ]
  },
  {
   "cell_type": "code",
   "execution_count": null,
   "id": "4be66bfe",
   "metadata": {},
   "outputs": [],
   "source": [
    "st = 'Sam Print only the words that start with s in this sentence'"
   ]
  },
  {
   "cell_type": "code",
   "execution_count": null,
   "id": "f4f01daf",
   "metadata": {},
   "outputs": [],
   "source": [
    "x=st.split()\n",
    "for word in x:\n",
    "    if word[0].lower()=='s':\n",
    "        print(word)"
   ]
  },
  {
   "cell_type": "code",
   "execution_count": null,
   "id": "cc9ab2f5",
   "metadata": {},
   "outputs": [],
   "source": [
    "#Use range() to print all the even numbers from 0 to 10.\n",
    "list(range(0,11,2))"
   ]
  },
  {
   "cell_type": "code",
   "execution_count": null,
   "id": "297bba84",
   "metadata": {},
   "outputs": [],
   "source": [
    "for i in range(0,11,2):\n",
    "    print(i)"
   ]
  },
  {
   "cell_type": "code",
   "execution_count": null,
   "id": "5a4dc0e1",
   "metadata": {},
   "outputs": [],
   "source": [
    "#Use a List Comprehension to create a list of all numbers between 1 and 50 that are divisible by 3.\n",
    "for x in range(1,51):\n",
    "    if x%3==0: \n",
    "        print(x)"
   ]
  },
  {
   "cell_type": "code",
   "execution_count": null,
   "id": "bb8eae07",
   "metadata": {},
   "outputs": [],
   "source": [
    "mylist=[x for x in range(1,51) if x%3==0]\n",
    "print(mylist)"
   ]
  },
  {
   "cell_type": "code",
   "execution_count": null,
   "id": "15b9f341",
   "metadata": {},
   "outputs": [],
   "source": [
    "#Go through the string below and if the length of a word is even print \"even!\"\n",
    "st = 'Print every word in this sentence that has an even number of letters'"
   ]
  },
  {
   "cell_type": "code",
   "execution_count": null,
   "id": "b02caf49",
   "metadata": {},
   "outputs": [],
   "source": [
    "x=st.split()\n",
    "print(x)"
   ]
  },
  {
   "cell_type": "code",
   "execution_count": null,
   "id": "31518bde",
   "metadata": {},
   "outputs": [],
   "source": [
    "for every_even_word in x:\n",
    "    if len(every_even_word)%2==0:\n",
    "        print(every_even_word+ \" is even\")\n",
    "    "
   ]
  },
  {
   "cell_type": "code",
   "execution_count": null,
   "id": "b076cd81",
   "metadata": {},
   "outputs": [],
   "source": [
    "#Write a program that prints the integers from 1 to 100.\n",
    "#But for multiples of three print \"Fizz\" instead of the number,\n",
    "#and for the multiples of five print \"Buzz\". For numbers which are \n",
    "#multiples of both three and five print \"FizzBuzz\".\n",
    "\n",
    "for x in range(1,101):\n",
    "    if x%3==0 and x%5==0:\n",
    "        print(\"FizzBuzz\")\n",
    "    elif x%3==0:\n",
    "        print(\"Fizz\")\n",
    "    elif x%5==0:\n",
    "        print(\"Buzz\")\n",
    "    else:\n",
    "        print(x)\n",
    "    \n"
   ]
  },
  {
   "cell_type": "code",
   "execution_count": null,
   "id": "75e66772",
   "metadata": {},
   "outputs": [],
   "source": [
    "#Use List Comprehension to create a list of the first letters of every word in the string below:\n",
    "st = 'Create a list of the first letters of every word in this string'\n",
    "for i in st.split():\n",
    "    print(i[0])\n",
    "    "
   ]
  },
  {
   "cell_type": "code",
   "execution_count": null,
   "id": "5c74db3c",
   "metadata": {},
   "outputs": [],
   "source": [
    "[i[0] for i in st.split()]"
   ]
  },
  {
   "cell_type": "code",
   "execution_count": null,
   "id": "4d637c67",
   "metadata": {},
   "outputs": [],
   "source": [
    "work_hours=[(\"Ali\", 100), (\"Bilal\", 200), (\"Usama\", 500)]"
   ]
  },
  {
   "cell_type": "code",
   "execution_count": null,
   "id": "8eba560f",
   "metadata": {},
   "outputs": [],
   "source": [
    "def employee_check(work_hours):\n",
    "    current_max=0\n",
    "    employee_of_month=\"\"\n",
    "    for employee,hours in work_hours:\n",
    "            if hours>current_max:\n",
    "                current_max=hours\n",
    "                employee_of_month=employee\n",
    "            else:\n",
    "                pass\n",
    "    return (employee_of_month,hours)"
   ]
  },
  {
   "cell_type": "code",
   "execution_count": null,
   "id": "85268832",
   "metadata": {},
   "outputs": [],
   "source": [
    "employee_check(work_hours)"
   ]
  },
  {
   "cell_type": "code",
   "execution_count": null,
   "id": "01f24762",
   "metadata": {},
   "outputs": [],
   "source": [
    "def myfunc(x,y,z):\n",
    "    if z==True:\n",
    "        return x\n",
    "    else:\n",
    "        return y"
   ]
  },
  {
   "cell_type": "code",
   "execution_count": null,
   "id": "ed822111",
   "metadata": {},
   "outputs": [],
   "source": [
    "myfunc(\"hello\",\"Goodbye\",False)"
   ]
  },
  {
   "cell_type": "code",
   "execution_count": null,
   "id": "4467dbd5",
   "metadata": {},
   "outputs": [],
   "source": [
    "def myfunc(a,b,c):\n",
    "    if c == True:\n",
    "        return a\n",
    "    else:\n",
    "        return b"
   ]
  },
  {
   "cell_type": "code",
   "execution_count": null,
   "id": "5a209899",
   "metadata": {},
   "outputs": [],
   "source": [
    "myfunc('Hello','Goodbye',False)"
   ]
  },
  {
   "cell_type": "code",
   "execution_count": null,
   "id": "bcf2a847",
   "metadata": {},
   "outputs": [],
   "source": [
    "def is_even(a):\n",
    "    if a%2==0:\n",
    "        return True\n",
    "    else:\n",
    "        return False"
   ]
  },
  {
   "cell_type": "code",
   "execution_count": null,
   "id": "157a4999",
   "metadata": {},
   "outputs": [],
   "source": [
    "is_even(2)"
   ]
  },
  {
   "cell_type": "code",
   "execution_count": null,
   "id": "7ddbd527",
   "metadata": {},
   "outputs": [],
   "source": [
    "def is_greater(a,b):\n",
    "    if a>b:\n",
    "        return True\n",
    "    else:\n",
    "        return False"
   ]
  },
  {
   "cell_type": "code",
   "execution_count": null,
   "id": "4ca0c787",
   "metadata": {},
   "outputs": [],
   "source": [
    "is_greater(20,3)"
   ]
  },
  {
   "cell_type": "code",
   "execution_count": null,
   "id": "3753c128",
   "metadata": {},
   "outputs": [],
   "source": [
    "def myfunc(*args):\n",
    "    return sum(args)"
   ]
  },
  {
   "cell_type": "code",
   "execution_count": null,
   "id": "a1d3c174",
   "metadata": {},
   "outputs": [],
   "source": [
    "myfunc(20,30)"
   ]
  },
  {
   "cell_type": "code",
   "execution_count": null,
   "id": "c9f47ae9",
   "metadata": {},
   "outputs": [],
   "source": [
    "#Define a function called myfunc that takes in an arbitrary number of arguments, \n",
    "#and returns a list containing only those arguments that are even.\n",
    "def myfunc(*args):\n",
    "    args_even=[]\n",
    "    for num in args:\n",
    "        if num%2==0:\n",
    "            args_even.append(num)\n",
    "            \n",
    "    return args_even"
   ]
  },
  {
   "cell_type": "code",
   "execution_count": null,
   "id": "e10fd393",
   "metadata": {},
   "outputs": [],
   "source": [
    "myfunc(2,2,3,10,20)"
   ]
  },
  {
   "cell_type": "code",
   "execution_count": null,
   "id": "5f1aead8",
   "metadata": {},
   "outputs": [],
   "source": [
    "st=\"shakeel\""
   ]
  },
  {
   "cell_type": "code",
   "execution_count": null,
   "id": "0c6679b9",
   "metadata": {},
   "outputs": [],
   "source": [
    "result=st.index(\"l\")"
   ]
  },
  {
   "cell_type": "code",
   "execution_count": null,
   "id": "20acacc0",
   "metadata": {},
   "outputs": [],
   "source": [
    "#Define a function called myfunc that takes in a string, and returns a matching string \n",
    "#where every even letter is uppercase, and every odd letter is lowercase. Assume that \n",
    "#the incoming string only contains letters, and don't worry about numbers, spaces or punctuation. \n",
    "#The output string can start with either an uppercase or lowercase letter, so long as letters \n",
    "#alternate throughout the string.\n",
    "def myfunc(st):\n",
    "    for every_letter in st:\n",
    "        if st.index(every_letter)%2==0:\n",
    "            return st.index().upper()\n",
    "        elif st.index(every_letter)%2!=0:\n",
    "            return st.index().lower()"
   ]
  },
  {
   "cell_type": "code",
   "execution_count": null,
   "id": "cc76c139",
   "metadata": {},
   "outputs": [],
   "source": [
    "myfunc(\"shakeel\")"
   ]
  },
  {
   "cell_type": "code",
   "execution_count": null,
   "id": "43b66d78",
   "metadata": {},
   "outputs": [],
   "source": [
    "x=\"shakeel\"\n"
   ]
  },
  {
   "cell_type": "code",
   "execution_count": null,
   "id": "31bda898",
   "metadata": {},
   "outputs": [],
   "source": [
    "range(len(x))"
   ]
  },
  {
   "cell_type": "code",
   "execution_count": null,
   "id": "666911ff",
   "metadata": {},
   "outputs": [],
   "source": [
    "def myfunc(st):\n",
    "    return_out=[]\n",
    "    for every_letter in range(len(st)):\n",
    "        if every_letter%2==0:\n",
    "            return_out.append(st[every_letter].lower())\n",
    "        elif every_letter%2!=0:\n",
    "            return_out.append(st[every_letter].upper())\n",
    "    return return_out"
   ]
  },
  {
   "cell_type": "code",
   "execution_count": null,
   "id": "0c75d745",
   "metadata": {},
   "outputs": [],
   "source": [
    "myfunc(\"shakeel\")"
   ]
  },
  {
   "cell_type": "code",
   "execution_count": null,
   "id": "e8158cc0",
   "metadata": {},
   "outputs": [],
   "source": [
    "def myfunc(name):\n",
    "    newname = list(name)\n",
    "    for i in newname:\n",
    "        if newname.index(i)% 2 == 0:\n",
    "            newname[newname.index(i)] = i.upper()\n",
    "        else:\n",
    "            newname[newname.index(i)] = i.lower()\n",
    "    return ''.join(newname)"
   ]
  },
  {
   "cell_type": "code",
   "execution_count": null,
   "id": "0eeef73d",
   "metadata": {},
   "outputs": [],
   "source": [
    "myfunc(\"shakeel\")"
   ]
  },
  {
   "cell_type": "code",
   "execution_count": null,
   "id": "5b8f24f2",
   "metadata": {},
   "outputs": [],
   "source": [
    "def myfunc(st):\n",
    "    return_out=[]\n",
    "    for every_letter in range(len(st)):\n",
    "        if every_letter%2==0:\n",
    "            return_out.append(st[every_letter].lower())\n",
    "        else: \n",
    "            return_out.append(st[every_letter].upper())\n",
    "    return \"\".join(return_out)"
   ]
  },
  {
   "cell_type": "code",
   "execution_count": null,
   "id": "559c7b6e",
   "metadata": {},
   "outputs": [],
   "source": [
    "myfunc(\"shakeel\")"
   ]
  },
  {
   "cell_type": "code",
   "execution_count": null,
   "id": "c6d50950",
   "metadata": {},
   "outputs": [],
   "source": [
    "#Write a function that returns the lesser of two given numbers if both numbers are even, \n",
    "#but returns the greater if one or both numbers are odd\n",
    "def myfunc1(a,b):\n",
    "    if a%2==0 and b%2==0:\n",
    "        return min(a,b)\n",
    "    else:\n",
    "        return max(a,b)"
   ]
  },
  {
   "cell_type": "code",
   "execution_count": null,
   "id": "e99b80c1",
   "metadata": {},
   "outputs": [],
   "source": [
    "myfunc1(4,2)"
   ]
  },
  {
   "cell_type": "code",
   "execution_count": null,
   "id": "4a9301db",
   "metadata": {
    "scrolled": true
   },
   "outputs": [],
   "source": [
    "myfunc1(2,5)"
   ]
  },
  {
   "cell_type": "code",
   "execution_count": null,
   "id": "61e48e8c",
   "metadata": {},
   "outputs": [],
   "source": [
    "#Write a function takes a two-word string and returns True if both words begin with same letter\n",
    "def animal_crackers(text):\n",
    "    wordlist = text.split()\n",
    "    if wordlist[0][0] == wordlist[1][0]:\n",
    "        return True\n",
    "    else:\n",
    "        False\n",
    "   "
   ]
  },
  {
   "cell_type": "code",
   "execution_count": null,
   "id": "6c06cbc8",
   "metadata": {},
   "outputs": [],
   "source": [
    "animal_crackers(\"shakeel shmad\")"
   ]
  },
  {
   "cell_type": "code",
   "execution_count": null,
   "id": "61d8535e",
   "metadata": {},
   "outputs": [],
   "source": [
    "def animal_crackers(text):\n",
    "    wordlist = text.split()\n",
    "    \n",
    "    print(text.split())\n",
    "   "
   ]
  },
  {
   "cell_type": "code",
   "execution_count": null,
   "id": "7dcc6860",
   "metadata": {},
   "outputs": [],
   "source": [
    "animal_crackers(\"shakeel shmad\")"
   ]
  },
  {
   "cell_type": "code",
   "execution_count": null,
   "id": "d920e379",
   "metadata": {},
   "outputs": [],
   "source": [
    "def animal_crackers(text):\n",
    "    wordlist = text.split()\n",
    "    return wordlist[0][0] == wordlist[1][0]"
   ]
  },
  {
   "cell_type": "code",
   "execution_count": null,
   "id": "88a98e9a",
   "metadata": {},
   "outputs": [],
   "source": [
    "animal_crackers(\"shakeel shmad\")"
   ]
  },
  {
   "cell_type": "code",
   "execution_count": null,
   "id": "2704d8b8",
   "metadata": {},
   "outputs": [],
   "source": [
    "animal_crackers('Crazy Kangaroo')"
   ]
  },
  {
   "cell_type": "code",
   "execution_count": null,
   "id": "8dd49380",
   "metadata": {},
   "outputs": [],
   "source": [
    "def myfunc(a,b):\n",
    "    if a+b==20 or a==20 or b==20:\n",
    "        return True\n",
    "    else:\n",
    "        return False"
   ]
  },
  {
   "cell_type": "code",
   "execution_count": null,
   "id": "7ca4950b",
   "metadata": {},
   "outputs": [],
   "source": [
    "myfunc(21,9)"
   ]
  },
  {
   "cell_type": "code",
   "execution_count": null,
   "id": "241b30dc",
   "metadata": {},
   "outputs": [],
   "source": [
    "myfunc(20,10)"
   ]
  },
  {
   "cell_type": "code",
   "execution_count": null,
   "id": "40fa6ca2",
   "metadata": {},
   "outputs": [],
   "source": [
    "myfunc(10,10)"
   ]
  },
  {
   "cell_type": "code",
   "execution_count": null,
   "id": "3d08ffe5",
   "metadata": {},
   "outputs": [],
   "source": [
    "def makes_twenty(n1,n2):\n",
    "    return (n1+n2)==20 or n1==20 or n2==20"
   ]
  },
  {
   "cell_type": "code",
   "execution_count": null,
   "id": "437cb993",
   "metadata": {},
   "outputs": [],
   "source": [
    "myfunc(10,10)"
   ]
  },
  {
   "cell_type": "code",
   "execution_count": null,
   "id": "684d55c9",
   "metadata": {},
   "outputs": [],
   "source": [
    "myfunc(20,10)"
   ]
  },
  {
   "cell_type": "code",
   "execution_count": null,
   "id": "a3e28433",
   "metadata": {},
   "outputs": [],
   "source": [
    "myfunc(21,9)"
   ]
  },
  {
   "cell_type": "code",
   "execution_count": null,
   "id": "3ea0fb63",
   "metadata": {},
   "outputs": [],
   "source": [
    "#Write a function that capitalizes the first and fourth letters of a name\n",
    "def myfunc(name):\n",
    "    x=name.split()\n",
    "    return x[0][0].upper()\n",
    "  \n",
    "    \n"
   ]
  },
  {
   "cell_type": "code",
   "execution_count": null,
   "id": "2fc9c4f5",
   "metadata": {},
   "outputs": [],
   "source": [
    "myfunc(\"shakeel\")"
   ]
  },
  {
   "cell_type": "code",
   "execution_count": null,
   "id": "494fdf78",
   "metadata": {},
   "outputs": [],
   "source": [
    "def cap_func(name):\n",
    "    print(name[:3].capitalize()+name[3:].capitalize())"
   ]
  },
  {
   "cell_type": "code",
   "execution_count": null,
   "id": "ec5dd9d7",
   "metadata": {},
   "outputs": [],
   "source": [
    "cap_func(\"shakeel\")"
   ]
  },
  {
   "cell_type": "code",
   "execution_count": null,
   "id": "40148df8",
   "metadata": {},
   "outputs": [],
   "source": [
    "cap_func(\"Ahm\")"
   ]
  },
  {
   "cell_type": "code",
   "execution_count": null,
   "id": "8d6faeb7",
   "metadata": {},
   "outputs": [],
   "source": [
    "def cap_func(name):\n",
    "    if len(name)>3:\n",
    "        return (name[:3].capitalize()+name[3:].capitalize()) #return to function as string\n",
    "    else:\n",
    "        print(\"name is too short\")"
   ]
  },
  {
   "cell_type": "code",
   "execution_count": null,
   "id": "a70c1ba6",
   "metadata": {},
   "outputs": [],
   "source": [
    "cap_func(\"shakeel\")"
   ]
  },
  {
   "cell_type": "code",
   "execution_count": null,
   "id": "c0b6ef7f",
   "metadata": {},
   "outputs": [],
   "source": [
    "#Given a sentence, return a sentence with the words reversed\n",
    "st=\"My name is Shakeel\""
   ]
  },
  {
   "cell_type": "code",
   "execution_count": null,
   "id": "9f6ebf14",
   "metadata": {},
   "outputs": [],
   "source": [
    "print(st[::-1])"
   ]
  },
  {
   "cell_type": "code",
   "execution_count": null,
   "id": "1d1f3feb",
   "metadata": {},
   "outputs": [],
   "source": [
    "x=st.split()"
   ]
  },
  {
   "cell_type": "code",
   "execution_count": null,
   "id": "8853c818",
   "metadata": {},
   "outputs": [],
   "source": [
    "def rev_func(x):\n",
    "    return \" \".join(x[::-1])"
   ]
  },
  {
   "cell_type": "code",
   "execution_count": null,
   "id": "704207a6",
   "metadata": {},
   "outputs": [],
   "source": [
    "rev_func(x)"
   ]
  },
  {
   "cell_type": "code",
   "execution_count": null,
   "id": "c20ec926",
   "metadata": {},
   "outputs": [],
   "source": [
    "def int_func(num):\n",
    "    if num in range(90, 111):\n",
    "        return True\n",
    "    if num in range(190, 211):\n",
    "        return True\n",
    "    else:\n",
    "        return False"
   ]
  },
  {
   "cell_type": "code",
   "execution_count": null,
   "id": "d4b365e0",
   "metadata": {},
   "outputs": [],
   "source": [
    "int_func(2)"
   ]
  },
  {
   "cell_type": "code",
   "execution_count": null,
   "id": "afb4dd75",
   "metadata": {},
   "outputs": [],
   "source": [
    "def almost_there(n):\n",
    "    return ((abs(100 - n) <= 10) or (abs(200 - n) <= 10))\n"
   ]
  },
  {
   "cell_type": "markdown",
   "id": "19b774d0",
   "metadata": {},
   "source": []
  },
  {
   "cell_type": "code",
   "execution_count": null,
   "id": "e8fad717",
   "metadata": {},
   "outputs": [],
   "source": [
    "almost_there(90)"
   ]
  },
  {
   "cell_type": "code",
   "execution_count": null,
   "id": "eebbd7b0",
   "metadata": {},
   "outputs": [],
   "source": [
    "#Given a list of ints, return True if the array contains a 3 next to a 3 somewhere.def has_33(nums):\n",
    "from array import*\n",
    "import numpy as np\n",
    "def myfunc(num):\n",
    "    list1 = [3,3]\n",
    "    if list1 in num[:]:\n",
    "        return True\n",
    "    else:\n",
    "        return False"
   ]
  },
  {
   "cell_type": "code",
   "execution_count": null,
   "id": "97d57f79",
   "metadata": {},
   "outputs": [],
   "source": [
    "myfunc([1,3,3])"
   ]
  },
  {
   "cell_type": "code",
   "execution_count": null,
   "id": "2baa60f4",
   "metadata": {},
   "outputs": [],
   "source": [
    "list1 = list[3,3]\n",
    "\n",
    "if list1 in [3,3]:\n",
    "    print(True) \n",
    "else:\n",
    "    print(False)"
   ]
  },
  {
   "cell_type": "code",
   "execution_count": null,
   "id": "fb252551",
   "metadata": {},
   "outputs": [],
   "source": [
    "numbers = [1, 2, 3, 2, 5, 3, 3, 5, 6, 3, 4, 5, 7]\n",
    "\n",
    "duplicates = [number for number in numbers if numbers.count(number) > 1]\n",
    "unique_duplicates = list(set(duplicates))\n",
    "\n",
    "print(unique_duplicates)"
   ]
  },
  {
   "cell_type": "code",
   "execution_count": null,
   "id": "6b0877ea",
   "metadata": {},
   "outputs": [],
   "source": [
    "#Given a list of ints, return True if the array contains a 3 next to a 3 somewhere.\n",
    "def has_33(nums):\n",
    "    for i in range(0, len(nums)-1):\n",
    "      \n",
    "        # nicer looking alternative in commented code\n",
    "        if nums[i] == 3 and nums[i+1] == 3:\n",
    "            return True  \n",
    "    \n",
    "    return False\n",
    "    \n",
    "       # for i in range(0, len(nums)-1):\n",
    "        #if nums[i:i+2] == [3,3]:\n",
    "        "
   ]
  },
  {
   "cell_type": "code",
   "execution_count": null,
   "id": "83896baf",
   "metadata": {},
   "outputs": [],
   "source": []
  },
  {
   "cell_type": "code",
   "execution_count": null,
   "id": "32198aaf",
   "metadata": {},
   "outputs": [],
   "source": [
    "has_33([1, 3, 1,3,3])"
   ]
  },
  {
   "cell_type": "code",
   "execution_count": null,
   "id": "2fd477fd",
   "metadata": {},
   "outputs": [],
   "source": [
    "nums=[1, 3, 3]\n",
    "x=range(0, len(nums))\n",
    "print(x)\n",
    "print(nums[0:3])"
   ]
  },
  {
   "cell_type": "code",
   "execution_count": null,
   "id": "2b66a74c",
   "metadata": {},
   "outputs": [],
   "source": [
    "#Given a string, return a string where for every character in the original there are three characters\n",
    "def paper_doll(text):\n",
    "    result = ''\n",
    "    for char in text:\n",
    "        result += char * 3\n",
    "    return result\n",
    "        \n"
   ]
  },
  {
   "cell_type": "code",
   "execution_count": null,
   "id": "0223b1ce",
   "metadata": {},
   "outputs": [],
   "source": [
    "paper_doll(\"shakeel\")\n",
    "#print(type(x))"
   ]
  },
  {
   "cell_type": "code",
   "execution_count": null,
   "id": "ff8be2ae",
   "metadata": {},
   "outputs": [],
   "source": [
    "text=\"shakeel\"\n",
    "x=list(text)\n",
    "print(x)"
   ]
  },
  {
   "cell_type": "code",
   "execution_count": null,
   "id": "0d3e3777",
   "metadata": {},
   "outputs": [],
   "source": [
    "def blackjack(a,b,c):\n",
    "    if (a+b+c)<=21:\n",
    "        return a+b+c\n",
    "    elif (a+b+c)>21 and a==11 or b==11 or c==11:\n",
    "        return (a+b+c-10)\n",
    "    elif a+b+c>21:\n",
    "        return \"Bust\""
   ]
  },
  {
   "cell_type": "code",
   "execution_count": null,
   "id": "75a8b501",
   "metadata": {},
   "outputs": [],
   "source": [
    "blackjack(9,11,11)"
   ]
  },
  {
   "cell_type": "code",
   "execution_count": null,
   "id": "4be34e8b",
   "metadata": {},
   "outputs": [],
   "source": [
    "#Given three integers between 1 and 11, if their sum is less than or equal to 21, return their sum. \n",
    "#If their sum exceeds 21 and there's an eleven, reduce the total sum by 10. Finally, if the sum (even after adjustment) \n",
    "#exceeds 21, return 'BUST\n",
    "def blackjack(a,b,c):\n",
    "    \n",
    "    if sum((a,b,c)) <= 21:\n",
    "        return sum((a,b,c))\n",
    "    elif sum((a,b,c)) <=31 and 11 in (a,b,c):\n",
    "        return sum((a,b,c)) - 10\n",
    "    else:\n",
    "        return 'BUST'"
   ]
  },
  {
   "cell_type": "code",
   "execution_count": null,
   "id": "3109175e",
   "metadata": {},
   "outputs": [],
   "source": [
    "blackjack(9,9,11)"
   ]
  },
  {
   "cell_type": "code",
   "execution_count": 77,
   "id": "834d9c9d",
   "metadata": {},
   "outputs": [],
   "source": [
    "#Return the sum of the numbers in the array, except ignore sections of numbers starting with a 6 and extending \n",
    "#to the next 9 (every 6 will be followed by at least one 9). Return 0 for no numbers\n",
    "def summer_69(arr):\n",
    "    y = []\n",
    "    for x in arr:\n",
    "        if 6 in arr:\n",
    "            a = arr.index(6)\n",
    "            b = arr.index(9)\n",
    "            del arr[a:b+1]\n",
    "            y = arr\n",
    "        elif arr == []:\n",
    "            return \"0\"\n",
    "        else:\n",
    "            return sum(arr)\n",
    "    return sum(y)"
   ]
  },
  {
   "cell_type": "code",
   "execution_count": null,
   "id": "4e908b60",
   "metadata": {},
   "outputs": [],
   "source": []
  },
  {
   "cell_type": "code",
   "execution_count": 78,
   "id": "d75dfc4a",
   "metadata": {},
   "outputs": [
    {
     "data": {
      "text/plain": [
       "0"
      ]
     },
     "execution_count": 78,
     "metadata": {},
     "output_type": "execute_result"
    }
   ],
   "source": [
    "def summer(arr):\n",
    "    if 6 and 9 in arr:\n",
    "        a = arr.index(6)\n",
    "        b = arr.index(9)\n",
    "        print(sum(arr)-sum(arr[a:b+1]))\n",
    "    else:\n",
    "        return 0\n",
    "        \n",
    "\n",
    "arr=[]\n",
    "summer(arr)"
   ]
  },
  {
   "cell_type": "code",
   "execution_count": null,
   "id": "843bd3c8",
   "metadata": {},
   "outputs": [],
   "source": [
    "print(type(arr))\n",
    "print(a)\n",
    "print(b)\n",
    "print(arr[a:b+1])"
   ]
  },
  {
   "cell_type": "code",
   "execution_count": null,
   "id": "b59822a3",
   "metadata": {},
   "outputs": [],
   "source": [
    "summer_69([2, 1, 6, 9, 11]) \n",
    "def summer_69(arr):\n",
    "    total = 0\n",
    "    add = True\n",
    "    for num in arr:\n",
    "        while add:\n",
    "            if num != 6:\n",
    "                total += num\n",
    "                break\n",
    "            else:\n",
    "                add = False\n",
    "        while not add:\n",
    "            if num != 9:\n",
    "                break\n",
    "            else:\n",
    "                add = True\n",
    "                break\n",
    "    return total"
   ]
  },
  {
   "cell_type": "code",
   "execution_count": null,
   "id": "d539c4ac",
   "metadata": {},
   "outputs": [],
   "source": [
    "summer_69([1, 3, 5,6])"
   ]
  },
  {
   "cell_type": "code",
   "execution_count": null,
   "id": "7a77b11d",
   "metadata": {},
   "outputs": [],
   "source": [
    "summer_69([4, 5, 7, 6,8, 9,10])"
   ]
  },
  {
   "cell_type": "code",
   "execution_count": 79,
   "id": "decea0d5",
   "metadata": {},
   "outputs": [],
   "source": [
    "#Write a function that takes in a list of integers and returns True if it contains 007 in order\n",
    " \n",
    "def spy_game(nums):\n",
    "\n",
    "    code = [0,0,7,'x']\n",
    "    \n",
    "    for num in nums:\n",
    "        if num == code[0]:\n",
    "            code.pop(0)   # code.remove(num) also works\n",
    "       \n",
    "    return len(code) == 1\n"
   ]
  },
  {
   "cell_type": "code",
   "execution_count": 80,
   "id": "1a6de39e",
   "metadata": {},
   "outputs": [
    {
     "data": {
      "text/plain": [
       "True"
      ]
     },
     "execution_count": 80,
     "metadata": {},
     "output_type": "execute_result"
    }
   ],
   "source": [
    "spy_game([1,2,4,0,0,7,5])"
   ]
  },
  {
   "cell_type": "code",
   "execution_count": null,
   "id": "9602e676",
   "metadata": {},
   "outputs": [],
   "source": [
    "def spy_game(num):\n",
    "    a=[]\n",
    "    for i in num:\n",
    "        if i==0:\n",
    "            a.append(i)\n",
    "        elif i==7:\n",
    "            a.append(i)\n",
    "    if a==[0,0,7]:\n",
    "        return True\n",
    "    else:\n",
    "        return False\n",
    "        "
   ]
  },
  {
   "cell_type": "code",
   "execution_count": null,
   "id": "73d41b34",
   "metadata": {},
   "outputs": [],
   "source": [
    "spy_game([1,2,4,0,7,5])"
   ]
  },
  {
   "cell_type": "code",
   "execution_count": null,
   "id": "04183bf3",
   "metadata": {},
   "outputs": [],
   "source": [
    "#COUNT PRIMES: Write a function that returns the number of prime numbers that exist up to and including a given number\n",
    "def count_prime(num):\n",
    "    x=range(num)\n",
    "    if x%2!=0 and x%3!=0:\n",
    "        return list(num)"
   ]
  },
  {
   "cell_type": "code",
   "execution_count": null,
   "id": "b99be4b0",
   "metadata": {},
   "outputs": [],
   "source": [
    "count_prime(10)"
   ]
  },
  {
   "cell_type": "code",
   "execution_count": null,
   "id": "fcfd7fb3",
   "metadata": {},
   "outputs": [],
   "source": [
    "range(10)\n",
    "#print(x)"
   ]
  },
  {
   "cell_type": "code",
   "execution_count": 108,
   "id": "4e93184e",
   "metadata": {},
   "outputs": [],
   "source": [
    "def count_primes2(num):\n",
    "    primes = [2]\n",
    "    x = 3\n",
    "    if num < 2:\n",
    "        return 0\n",
    "    while x <= num:\n",
    "        for y in primes:  # use the primes list!\n",
    "            if x%y == 0:\n",
    "                x += 2\n",
    "                break\n",
    "            else:\n",
    "                primes.append(x)\n",
    "                x += 2\n",
    "    print(primes)\n",
    "    return len(primes)\n",
    "                \n"
   ]
  },
  {
   "cell_type": "code",
   "execution_count": 109,
   "id": "1707108b",
   "metadata": {},
   "outputs": [
    {
     "name": "stdout",
     "output_type": "stream",
     "text": [
      "[2, 3, 5, 7, 11, 13, 17, 19, 23, 29, 31, 37, 41, 43, 47, 53, 59, 61, 67, 71, 73, 79, 83, 89, 97]\n"
     ]
    },
    {
     "data": {
      "text/plain": [
       "25"
      ]
     },
     "execution_count": 109,
     "metadata": {},
     "output_type": "execute_result"
    }
   ],
   "source": [
    "count_primes(100)"
   ]
  },
  {
   "cell_type": "code",
   "execution_count": 95,
   "id": "5ae1fef5",
   "metadata": {},
   "outputs": [
    {
     "name": "stdout",
     "output_type": "stream",
     "text": [
      "1\n"
     ]
    }
   ],
   "source": [
    "x=3\n",
    "range(3,x,2)\n",
    "for i in range(1,x,2):\n",
    "    print(i)\n"
   ]
  },
  {
   "cell_type": "code",
   "execution_count": 94,
   "id": "fdc5d3f1",
   "metadata": {},
   "outputs": [],
   "source": [
    "#n=int(input(\"enter size of list\"))\n",
    "a=[]\n",
    "b=[]\n",
    "def odd_even(num):\n",
    "    for i in num:\n",
    "        if i%2!=0:\n",
    "            a.append(i)\n",
    "            #print(a)\n",
    "        else:\n",
    "            b.append(i)\n",
    "            #print(b)\n",
    "    return (a,b)\n",
    "    \n",
    "    \n",
    "   \n",
    "    "
   ]
  },
  {
   "cell_type": "code",
   "execution_count": 95,
   "id": "52530d6c",
   "metadata": {},
   "outputs": [
    {
     "name": "stdout",
     "output_type": "stream",
     "text": [
      "[5]\n",
      "[10, 20, 30]\n"
     ]
    }
   ],
   "source": [
    "x,y=odd_even([5,10,20,30])\n",
    "print(x)\n",
    "print(y)\n"
   ]
  },
  {
   "cell_type": "code",
   "execution_count": 129,
   "id": "000e724c",
   "metadata": {},
   "outputs": [],
   "source": [
    "count=0\n",
    "def prime_check(num):\n",
    "    for i in range(2,num):\n",
    "        if num%i==0:\n",
    "            print(i)\n",
    "    \n"
   ]
  },
  {
   "cell_type": "code",
   "execution_count": 130,
   "id": "caaa4751",
   "metadata": {},
   "outputs": [
    {
     "name": "stdout",
     "output_type": "stream",
     "text": [
      "2\n",
      "4\n",
      "5\n",
      "10\n",
      "20\n",
      "25\n",
      "50\n"
     ]
    }
   ],
   "source": [
    "prime_check(100)"
   ]
  },
  {
   "cell_type": "code",
   "execution_count": 24,
   "id": "bad6f753",
   "metadata": {},
   "outputs": [],
   "source": [
    "#num=int(input(\"enter num to check prime=\"))\n",
    "\n",
    "def prime_ck(num):\n",
    "    i=1\n",
    "    counter=0\n",
    "    a=[]\n",
    "    while i<=num:\n",
    "    \n",
    "        if num%i==0:\n",
    "            counter=counter+1\n",
    "            print(i)\n",
    "            a.append(i)\n",
    "        i+=1            \n",
    "    if counter==2:\n",
    "        print(\"num is Prime\")    \n",
    "    else:\n",
    "        print(\"num is not Prime\")\n",
    "    print(a)\n",
    "    "
   ]
  },
  {
   "cell_type": "markdown",
   "id": "d01a7796",
   "metadata": {},
   "source": [
    "prime_ck(11)"
   ]
  },
  {
   "cell_type": "code",
   "execution_count": 29,
   "id": "09d231da",
   "metadata": {},
   "outputs": [
    {
     "name": "stdout",
     "output_type": "stream",
     "text": [
      "1\n",
      "3\n",
      "num is Prime\n",
      "[1, 3]\n"
     ]
    }
   ],
   "source": [
    "prime_ck(3)"
   ]
  },
  {
   "cell_type": "code",
   "execution_count": 10,
   "id": "db5de214",
   "metadata": {},
   "outputs": [
    {
     "data": {
      "text/plain": [
       "['2', '9']"
      ]
     },
     "execution_count": 10,
     "metadata": {},
     "output_type": "execute_result"
    }
   ],
   "source": [
    "i=29\n",
    "x=str(i)\n",
    "list(x)"
   ]
  },
  {
   "cell_type": "code",
   "execution_count": 5,
   "id": "7e66428e",
   "metadata": {},
   "outputs": [
    {
     "name": "stdout",
     "output_type": "stream",
     "text": [
      "enter a the lower limit: 1\n",
      "enter a the upper limit: 10\n",
      "[]\n"
     ]
    }
   ],
   "source": [
    "lowerlimit = input('enter a the lower limit: ')\n",
    "uplimit = input('enter a the upper limit: ')\n",
    "limitstart = int(lowerlimit)\n",
    "limitend = int(uplimit)\n",
    "\n",
    "primes =[]\n",
    "counter = 0 \n",
    "\n",
    "for num in range(limitstart,limitend+1):\n",
    "    #counter = 0 \n",
    "    #primes =[]\n",
    "    for i in range(1,num+1):\n",
    "        if(num%i ==0):\n",
    "            counter = counter + 1\n",
    "    if(counter == 2):\n",
    "        primes.append(i) #primes.append(num) both give same result as last iteration of i is equal to num\n",
    "    \n",
    "print(primes)\n"
   ]
  },
  {
   "cell_type": "markdown",
   "id": "df7767bf",
   "metadata": {},
   "source": [
    "for i in range(1,3):\n",
    "    if 0%i==0:\n",
    "        print(i)\n"
   ]
  },
  {
   "cell_type": "code",
   "execution_count": 1,
   "id": "1ce86002",
   "metadata": {},
   "outputs": [],
   "source": [
    "#a=[]\n",
    "\n",
    "def prime_ck(nums):\n",
    "    \n",
    "    #counter=0 gives diff ans empty list\n",
    "    a=[] #no change\n",
    "    b=[]\n",
    "    for num in range(1,nums+1):\n",
    "        counter=0\n",
    "        #a=[] gives empty list\n",
    "        for i in range(1,num+1):\n",
    "            #counter=0 gives empty list\n",
    "            if num%i==0:\n",
    "                counter=counter+1\n",
    "                #print(i)\n",
    "                #a.append(i)\n",
    "                #i+=1            \n",
    "        if counter==2: \n",
    "            a.append(num)\n",
    "            print(\"num is Prime\",i) \n",
    "            #print(a)\n",
    "        else:\n",
    "            b.append(num)\n",
    "            print(\"num is not Prime\",i)\n",
    "    print(\"numbers are prime in list\", a)\n",
    "    print(len(a))\n"
   ]
  },
  {
   "cell_type": "code",
   "execution_count": 2,
   "id": "1071bd75",
   "metadata": {},
   "outputs": [
    {
     "name": "stdout",
     "output_type": "stream",
     "text": [
      "num is not Prime 1\n",
      "num is Prime 2\n",
      "num is Prime 3\n",
      "num is not Prime 4\n",
      "num is Prime 5\n",
      "num is not Prime 6\n",
      "num is Prime 7\n",
      "num is not Prime 8\n",
      "num is not Prime 9\n",
      "num is not Prime 10\n",
      "num is Prime 11\n",
      "num is not Prime 12\n",
      "num is Prime 13\n",
      "num is not Prime 14\n",
      "num is not Prime 15\n",
      "num is not Prime 16\n",
      "num is Prime 17\n",
      "num is not Prime 18\n",
      "num is Prime 19\n",
      "num is not Prime 20\n",
      "num is not Prime 21\n",
      "num is not Prime 22\n",
      "num is Prime 23\n",
      "num is not Prime 24\n",
      "num is not Prime 25\n",
      "num is not Prime 26\n",
      "num is not Prime 27\n",
      "num is not Prime 28\n",
      "num is Prime 29\n",
      "num is not Prime 30\n",
      "num is Prime 31\n",
      "num is not Prime 32\n",
      "num is not Prime 33\n",
      "num is not Prime 34\n",
      "num is not Prime 35\n",
      "num is not Prime 36\n",
      "num is Prime 37\n",
      "num is not Prime 38\n",
      "num is not Prime 39\n",
      "num is not Prime 40\n",
      "num is Prime 41\n",
      "num is not Prime 42\n",
      "num is Prime 43\n",
      "num is not Prime 44\n",
      "num is not Prime 45\n",
      "num is not Prime 46\n",
      "num is Prime 47\n",
      "num is not Prime 48\n",
      "num is not Prime 49\n",
      "num is not Prime 50\n",
      "num is not Prime 51\n",
      "num is not Prime 52\n",
      "num is Prime 53\n",
      "num is not Prime 54\n",
      "num is not Prime 55\n",
      "num is not Prime 56\n",
      "num is not Prime 57\n",
      "num is not Prime 58\n",
      "num is Prime 59\n",
      "num is not Prime 60\n",
      "num is Prime 61\n",
      "num is not Prime 62\n",
      "num is not Prime 63\n",
      "num is not Prime 64\n",
      "num is not Prime 65\n",
      "num is not Prime 66\n",
      "num is Prime 67\n",
      "num is not Prime 68\n",
      "num is not Prime 69\n",
      "num is not Prime 70\n",
      "num is Prime 71\n",
      "num is not Prime 72\n",
      "num is Prime 73\n",
      "num is not Prime 74\n",
      "num is not Prime 75\n",
      "num is not Prime 76\n",
      "num is not Prime 77\n",
      "num is not Prime 78\n",
      "num is Prime 79\n",
      "num is not Prime 80\n",
      "num is not Prime 81\n",
      "num is not Prime 82\n",
      "num is Prime 83\n",
      "num is not Prime 84\n",
      "num is not Prime 85\n",
      "num is not Prime 86\n",
      "num is not Prime 87\n",
      "num is not Prime 88\n",
      "num is Prime 89\n",
      "num is not Prime 90\n",
      "num is not Prime 91\n",
      "num is not Prime 92\n",
      "num is not Prime 93\n",
      "num is not Prime 94\n",
      "num is not Prime 95\n",
      "num is not Prime 96\n",
      "num is Prime 97\n",
      "num is not Prime 98\n",
      "num is not Prime 99\n",
      "num is not Prime 100\n",
      "numbers are prime in list [2, 3, 5, 7, 11, 13, 17, 19, 23, 29, 31, 37, 41, 43, 47, 53, 59, 61, 67, 71, 73, 79, 83, 89, 97]\n",
      "25\n"
     ]
    }
   ],
   "source": [
    "prime_ck(100)"
   ]
  },
  {
   "cell_type": "code",
   "execution_count": 76,
   "id": "4f7c5edf",
   "metadata": {},
   "outputs": [
    {
     "name": "stdout",
     "output_type": "stream",
     "text": [
      "True\n"
     ]
    }
   ],
   "source": [
    "while 1<=1:\n",
    "    print(True)\n",
    "    break"
   ]
  },
  {
   "cell_type": "code",
   "execution_count": 4,
   "id": "2ec50201",
   "metadata": {},
   "outputs": [
    {
     "data": {
      "text/plain": [
       "False"
      ]
     },
     "execution_count": 4,
     "metadata": {},
     "output_type": "execute_result"
    }
   ],
   "source": [
    "9%6==0"
   ]
  },
  {
   "cell_type": "code",
   "execution_count": 4,
   "id": "0231cd4f",
   "metadata": {},
   "outputs": [],
   "source": [
    "#PRINT BIG: Write a function that takes in a single letter, and returns a 5x5 representation of that letter\n",
    "def print_big(letter):\n",
    "    patterns = {1:'  *  ',2:' * * ',3:'*   *',4:'*****',5:'**** ',6:'   * ',7:' *   ',8:'*   * ',9:'*    '}\n",
    "    alphabet = {'A':[1,2,4,3,3],'B':[5,3,5,3,5],'C':[4,9,9,9,4],'D':[5,3,3,3,5],'E':[4,9,4,9,4]}\n",
    "    for pattern in alphabet[letter.upper()]:\n",
    "        print(patterns[pattern])"
   ]
  },
  {
   "cell_type": "code",
   "execution_count": 163,
   "id": "c1cc9f69",
   "metadata": {},
   "outputs": [
    {
     "name": "stdout",
     "output_type": "stream",
     "text": [
      "  *  \n",
      " * * \n",
      "*****\n",
      "*   *\n",
      "*   *\n"
     ]
    }
   ],
   "source": [
    "print_big(\"A\")"
   ]
  },
  {
   "cell_type": "code",
   "execution_count": 10,
   "id": "8fb6c4eb",
   "metadata": {},
   "outputs": [
    {
     "name": "stdout",
     "output_type": "stream",
     "text": [
      "A\n",
      "  *  \n",
      " * * \n",
      "*****\n",
      "*   *\n",
      "*   *\n",
      "[1, 2, 4, 3, 3]\n",
      "B\n",
      "**** \n",
      "*   *\n",
      "**** \n",
      "*   *\n",
      "**** \n",
      "[5, 3, 5, 3, 5]\n",
      "C\n",
      "*****\n",
      "*    \n",
      "*    \n",
      "*    \n",
      "*****\n",
      "[4, 9, 9, 9, 4]\n",
      "D\n",
      "**** \n",
      "*   *\n",
      "*   *\n",
      "*   *\n",
      "**** \n",
      "[5, 3, 3, 3, 5]\n",
      "E\n",
      "*****\n",
      "*    \n",
      "*****\n",
      "*    \n",
      "*****\n",
      "[4, 9, 4, 9, 4]\n"
     ]
    }
   ],
   "source": [
    "patterns = {1:'  *  ',2:' * * ',3:'*   *',4:'*****',5:'**** ',6:'   * ',7:' *   ',8:'*   * ',9:'*    '}\n",
    "alphabet = {'A':[1,2,4,3,3],'B':[5,3,5,3,5],'C':[4,9,9,9,4],'D':[5,3,3,3,5],'E':[4,9,4,9,4]}\n",
    "for k in alphabet:\n",
    "    print(k)\n",
    "    for i in alphabet[k]:\n",
    "        print(patterns[i])\n",
    "    print(alphabet[k])\n"
   ]
  },
  {
   "cell_type": "code",
   "execution_count": 45,
   "id": "93c9add3",
   "metadata": {},
   "outputs": [
    {
     "name": "stdout",
     "output_type": "stream",
     "text": [
      "[1, 2, 4, 3, 3]\n",
      "  *  \n",
      " * * \n",
      "*****\n",
      "*   *\n",
      "*   *\n",
      "[5, 3, 5, 3, 5]\n",
      "**** \n",
      "*   *\n",
      "**** \n",
      "*   *\n",
      "**** \n",
      "[4, 9, 9, 9, 4]\n",
      "*****\n",
      "*    \n",
      "*    \n",
      "*    \n",
      "*****\n",
      "[5, 3, 3, 3, 5]\n",
      "**** \n",
      "*   *\n",
      "*   *\n",
      "*   *\n",
      "**** \n",
      "[4, 9, 4, 9, 4]\n",
      "*****\n",
      "*    \n",
      "*****\n",
      "*    \n",
      "*****\n"
     ]
    }
   ],
   "source": [
    "patterns = {1:'  *  ',2:' * * ',3:'*   *',4:'*****',5:'**** ',6:'   * ',7:' *   ',8:'*   * ',9:'*    '}\n",
    "alphabet = {'A':[1,2,4,3,3],'B':[5,3,5,3,5],'C':[4,9,9,9,4],'D':[5,3,3,3,5],'E':[4,9,4,9,4]}\n",
    "\n",
    "for k in alphabet.values():\n",
    "    print(k)\n",
    "    for i in k:\n",
    "        \n",
    "        print(patterns[i])\n",
    "\n",
    "    \n",
    "        \n",
    "    "
   ]
  },
  {
   "cell_type": "code",
   "execution_count": null,
   "id": "d61c134c",
   "metadata": {},
   "outputs": [],
   "source": []
  }
 ],
 "metadata": {
  "kernelspec": {
   "display_name": "Python 3 (ipykernel)",
   "language": "python",
   "name": "python3"
  },
  "language_info": {
   "codemirror_mode": {
    "name": "ipython",
    "version": 3
   },
   "file_extension": ".py",
   "mimetype": "text/x-python",
   "name": "python",
   "nbconvert_exporter": "python",
   "pygments_lexer": "ipython3",
   "version": "3.9.12"
  }
 },
 "nbformat": 4,
 "nbformat_minor": 5
}
