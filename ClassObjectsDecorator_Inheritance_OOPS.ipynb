{
 "cells": [
  {
   "cell_type": "code",
   "execution_count": 125,
   "id": "8b6cb766",
   "metadata": {},
   "outputs": [],
   "source": [
    "class Phone:\n",
    "\n",
    "    def make_call(self):\n",
    "        print(\"im calling\")\n",
    "    def play_game(self):\n",
    "        print(\"playing 7\")\n",
    "    \n",
    "    def __init__(self, m):\n",
    "        \n",
    "        self.model=m\n",
    "        \n",
    "        \n",
    "    def model_price(self, p):\n",
    "        #self.price=p both same result?\n",
    "        self.price=p*8\n",
    "        #price=p*5\n",
    "        newprice=90\n",
    "          \n",
    "        print(\"modle\", self.model, 'price', self.price, \"newprice\", newprice)"
   ]
  },
  {
   "cell_type": "code",
   "execution_count": 126,
   "id": "b4cdb0eb",
   "metadata": {},
   "outputs": [],
   "source": [
    "p1=Phone(\"modelnew\")"
   ]
  },
  {
   "cell_type": "code",
   "execution_count": 127,
   "id": "32e2b669",
   "metadata": {},
   "outputs": [],
   "source": [
    "#p1.make_call()"
   ]
  },
  {
   "cell_type": "code",
   "execution_count": 128,
   "id": "9a88f1c3",
   "metadata": {},
   "outputs": [],
   "source": [
    "#p1.play_game()"
   ]
  },
  {
   "cell_type": "code",
   "execution_count": 129,
   "id": "84ec4577",
   "metadata": {},
   "outputs": [
    {
     "name": "stdout",
     "output_type": "stream",
     "text": [
      "modle modelnew price 80 newprice 90\n",
      "playing 7\n",
      "im calling\n"
     ]
    }
   ],
   "source": [
    "p1.model_price(10)\n",
    "p1.play_game()\n",
    "p1.make_call()"
   ]
  },
  {
   "cell_type": "code",
   "execution_count": 137,
   "id": "e2b8bb8b",
   "metadata": {},
   "outputs": [],
   "source": [
    "class Myclass:\n",
    "    def __init__(self):\n",
    "        self.model=\"New\"\n",
    "    def show_model(self):\n",
    "        print(\"Model\", self.model)\n",
    "        "
   ]
  },
  {
   "cell_type": "code",
   "execution_count": 142,
   "id": "5359bb0d",
   "metadata": {},
   "outputs": [
    {
     "name": "stdout",
     "output_type": "stream",
     "text": [
      "1837291104848\n",
      "1837291104848\n"
     ]
    }
   ],
   "source": [
    "realme=Myclass()\n",
    "notme=Myclass()\n",
    "a=10\n",
    "b=10\n",
    "print(id(a))\n",
    "print(id(b))\n",
    "#although both are variables a, b and have have same value but have same id path location \n",
    "#on other hand from class function we got different id values even applying same values, bcz now they are representing objects \n",
    "#of class"
   ]
  },
  {
   "cell_type": "code",
   "execution_count": 141,
   "id": "100576f4",
   "metadata": {},
   "outputs": [
    {
     "name": "stdout",
     "output_type": "stream",
     "text": [
      "Model New\n",
      "1837412066784\n",
      "Model New\n",
      "1837398223168\n"
     ]
    }
   ],
   "source": [
    "realme.show_model()\n",
    "print(id(realme))\n",
    "notme.show_model()\n",
    "print(id(notme))"
   ]
  },
  {
   "cell_type": "code",
   "execution_count": 135,
   "id": "7a1e9d8c",
   "metadata": {},
   "outputs": [
    {
     "name": "stdout",
     "output_type": "stream",
     "text": [
      "1837411591120\n"
     ]
    }
   ],
   "source": [
    "print(id(realme))"
   ]
  },
  {
   "cell_type": "code",
   "execution_count": 198,
   "id": "de8be52b",
   "metadata": {},
   "outputs": [],
   "source": [
    "def func(n,a):\n",
    "    m=n*5\n",
    "    m=n\n",
    "    x=n*a\n",
    "    print(m)\n",
    "    print(x)\n",
    "    print(\"hello\")\n",
    "    return(n)"
   ]
  },
  {
   "cell_type": "code",
   "execution_count": 200,
   "id": "3daa490e",
   "metadata": {},
   "outputs": [
    {
     "name": "stdout",
     "output_type": "stream",
     "text": [
      "6\n",
      "60\n",
      "hello\n",
      "6\n",
      "1837291104720\n"
     ]
    }
   ],
   "source": [
    "t=func(6,10)\n",
    "print(t)\n",
    "print(id(t))"
   ]
  },
  {
   "cell_type": "code",
   "execution_count": 201,
   "id": "b9315001",
   "metadata": {},
   "outputs": [
    {
     "name": "stdout",
     "output_type": "stream",
     "text": [
      "7\n",
      "70\n",
      "hello\n",
      "7\n",
      "1837291104752\n",
      "\n",
      "6\n",
      "1837291104720\n"
     ]
    }
   ],
   "source": [
    "u=func(7,10)\n",
    "print(u)\n",
    "print(id(u))\n",
    "print()\n",
    "print(t)\n",
    "print(id(t))\n",
    "\n"
   ]
  },
  {
   "cell_type": "code",
   "execution_count": 202,
   "id": "0b9421a9",
   "metadata": {},
   "outputs": [],
   "source": [
    "class myfunc:\n",
    "    def func(self, n):\n",
    "        self.m=n*5\n",
    "        m=10\n",
    "        #m=n*5\n",
    "        print(self.m)\n",
    "        print(m)\n",
    "        print(\"hello\")\n",
    "        return(n)"
   ]
  },
  {
   "cell_type": "code",
   "execution_count": 204,
   "id": "94fd510d",
   "metadata": {},
   "outputs": [
    {
     "name": "stdout",
     "output_type": "stream",
     "text": [
      "25\n",
      "10\n",
      "hello\n",
      "5\n",
      "1837414816448\n",
      "\n",
      "25\n",
      "10\n",
      "hello\n",
      "5\n",
      "1837417524912\n"
     ]
    }
   ],
   "source": [
    "d=myfunc()\n",
    "j=d.func(5)\n",
    "print(j)\n",
    "print(id(d))\n",
    "print()\n",
    "l=myfunc()\n",
    "k=d.func(5)\n",
    "print(k)\n",
    "print(id(l))\n"
   ]
  },
  {
   "cell_type": "code",
   "execution_count": 244,
   "id": "62d81c88",
   "metadata": {},
   "outputs": [],
   "source": [
    "class Mobile:\n",
    "    def __init__(self):\n",
    "        self.model=\"Redme\"\n",
    "        #print(self.model)\n",
    "    def show_model(self):\n",
    "        #self.model=\"m\"\n",
    "        #self.show=\"realme\"\n",
    "        print(self.model)\n",
    "        #print(self.show)\n",
    "\n",
    "        "
   ]
  },
  {
   "cell_type": "code",
   "execution_count": 246,
   "id": "81ea99f5",
   "metadata": {},
   "outputs": [
    {
     "name": "stdout",
     "output_type": "stream",
     "text": [
      "\n",
      "Redme\n",
      "1837417506080\n"
     ]
    }
   ],
   "source": [
    "obj=Mobile()\n",
    "#obj.model=\"je\"\n",
    "#print(obj.model)\n",
    "print()\n",
    "obj.show_model()\n",
    "print(id(obj))"
   ]
  },
  {
   "cell_type": "code",
   "execution_count": 34,
   "id": "0881af3d",
   "metadata": {},
   "outputs": [],
   "source": [
    "class Mobile:\n",
    "    def __init__(self): #instance class object or parameter\n",
    "        self.model=\"Redme\" #instance variable\n",
    "    def show_model(self):\n",
    "        print(self.model)\n",
    "       "
   ]
  },
  {
   "cell_type": "code",
   "execution_count": 35,
   "id": "09eb8057",
   "metadata": {},
   "outputs": [],
   "source": [
    "red=Mobile()\n",
    "blue=Mobile()\n",
    "green=Mobile()"
   ]
  },
  {
   "cell_type": "code",
   "execution_count": 36,
   "id": "1d58c315",
   "metadata": {},
   "outputs": [
    {
     "name": "stdout",
     "output_type": "stream",
     "text": [
      "Redme\n",
      "Redme\n",
      "Redme\n",
      "\n",
      "Redme\n",
      "realme\n",
      "Redme\n"
     ]
    }
   ],
   "source": [
    "red.show_model()\n",
    "blue.show_model()\n",
    "green.show_model()\n",
    "print()\n",
    "blue.model=\"realme\" #instance variable value can be change outside of function for special instance variable\n",
    "red.show_model()\n",
    "blue.show_model()\n",
    "green.show_model()\n"
   ]
  },
  {
   "cell_type": "code",
   "execution_count": 3,
   "id": "1e213c3c",
   "metadata": {},
   "outputs": [],
   "source": [
    "class Mobile:\n",
    "    fp=\"Yes\" # class variable\n",
    "    @classmethod \n",
    "    def is_fp(cls):\n",
    "        print(cls.fp)\n"
   ]
  },
  {
   "cell_type": "code",
   "execution_count": 6,
   "id": "45c70c27",
   "metadata": {},
   "outputs": [
    {
     "name": "stdout",
     "output_type": "stream",
     "text": [
      "Yes\n"
     ]
    }
   ],
   "source": [
    "realme=Mobile()\n",
    "#print(Mobile.fp)\n",
    "Mobile.is_fp()"
   ]
  },
  {
   "cell_type": "code",
   "execution_count": 14,
   "id": "7fb47cc5",
   "metadata": {},
   "outputs": [],
   "source": [
    "class Mobile:\n",
    "    fp=\"Yes\"\n",
    "    def __init__(self): #instance class object or parameter\n",
    "        self.model=\"Redme\" #instance variable\n",
    "    def show_model(self):\n",
    "        print(self.model)\n",
    "    @classmethod\n",
    "    def is_fp(cls):\n",
    "        #cls.fp=\"No\" #chaniging class variable value inside func\n",
    "        print(\"Finger print:\", cls.fp)"
   ]
  },
  {
   "cell_type": "code",
   "execution_count": 15,
   "id": "cbb9397e",
   "metadata": {},
   "outputs": [
    {
     "name": "stdout",
     "output_type": "stream",
     "text": [
      "Redme\n",
      "Finger print: Yes\n",
      "\n",
      "Finger print: No\n"
     ]
    }
   ],
   "source": [
    "red=Mobile()\n",
    "red.show_model() #accessing instance method Object.instancemethod\n",
    "Mobile.is_fp() #accessing class method Classname.classmethod\n",
    "print()\n",
    "Mobile.fp=\"No\" #changing class variable value outside function\n",
    "Mobile.is_fp()"
   ]
  },
  {
   "cell_type": "code",
   "execution_count": 20,
   "id": "57b039a2",
   "metadata": {},
   "outputs": [
    {
     "ename": "NameError",
     "evalue": "name 'classmetho' is not defined",
     "output_type": "error",
     "traceback": [
      "\u001b[1;31m---------------------------------------------------------------------------\u001b[0m",
      "\u001b[1;31mNameError\u001b[0m                                 Traceback (most recent call last)",
      "Input \u001b[1;32mIn [20]\u001b[0m, in \u001b[0;36m<cell line: 1>\u001b[1;34m()\u001b[0m\n\u001b[1;32m----> 1\u001b[0m \u001b[38;5;28;01mclass\u001b[39;00m \u001b[38;5;21;01mMobile\u001b[39;00m:\n\u001b[0;32m      2\u001b[0m     fp\u001b[38;5;241m=\u001b[39m\u001b[38;5;124m\"\u001b[39m\u001b[38;5;124mYes\u001b[39m\u001b[38;5;124m\"\u001b[39m\n\u001b[0;32m      3\u001b[0m     \u001b[38;5;28;01mdef\u001b[39;00m \u001b[38;5;21m__init__\u001b[39m(\u001b[38;5;28mself\u001b[39m): \u001b[38;5;66;03m#instance class object or parameter\u001b[39;00m\n",
      "Input \u001b[1;32mIn [20]\u001b[0m, in \u001b[0;36mMobile\u001b[1;34m()\u001b[0m\n\u001b[0;32m      5\u001b[0m \u001b[38;5;28;01mdef\u001b[39;00m \u001b[38;5;21mshow_model\u001b[39m(\u001b[38;5;28mself\u001b[39m):\n\u001b[0;32m      6\u001b[0m     \u001b[38;5;28mprint\u001b[39m(\u001b[38;5;28mself\u001b[39m\u001b[38;5;241m.\u001b[39mmodel)\n\u001b[1;32m----> 7\u001b[0m \u001b[38;5;129m@classmetho\u001b[39m\n\u001b[0;32m      8\u001b[0m \u001b[38;5;28;01mdef\u001b[39;00m \u001b[38;5;21mis_fp\u001b[39m(\u001b[38;5;28mcls\u001b[39m):\n\u001b[0;32m      9\u001b[0m     \u001b[38;5;66;03m#cls.fp=\"No\" #chaniging class variable value inside func\u001b[39;00m\n\u001b[0;32m     10\u001b[0m     \u001b[38;5;28mprint\u001b[39m(\u001b[38;5;124m\"\u001b[39m\u001b[38;5;124mFinger print:\u001b[39m\u001b[38;5;124m\"\u001b[39m, \u001b[38;5;28mcls\u001b[39m\u001b[38;5;241m.\u001b[39mfp)\n",
      "\u001b[1;31mNameError\u001b[0m: name 'classmetho' is not defined"
     ]
    }
   ],
   "source": [
    "class Mobile:\n",
    "    fp=\"Yes\"\n",
    "    def __init__(self): #instance class object or parameter\n",
    "        self.model=\"Redme\" #instance variable\n",
    "    def show_model(self):\n",
    "        print(self.model)\n",
    "    @classmethod\n",
    "    def is_fp(cls):\n",
    "        #cls.fp=\"No\" #chaniging class variable value inside func\n",
    "        print(\"Finger print:\", cls.fp)"
   ]
  },
  {
   "cell_type": "code",
   "execution_count": 21,
   "id": "f2a636f5",
   "metadata": {},
   "outputs": [],
   "source": [
    "red=Mobile()\n",
    "blue=Mobile()\n",
    "green=Mobile()"
   ]
  },
  {
   "cell_type": "code",
   "execution_count": 19,
   "id": "9555d885",
   "metadata": {},
   "outputs": [
    {
     "name": "stdout",
     "output_type": "stream",
     "text": [
      "Red: Yes\n",
      "Blue: Yes\n",
      "green: Yes\n",
      "\n",
      "Red: No\n",
      "Blue: No\n",
      "green: No\n"
     ]
    }
   ],
   "source": [
    "print(\"Red:\", Mobile.fp)\n",
    "print(\"Blue:\", Mobile.fp)\n",
    "print(\"green:\", Mobile.fp)\n",
    "print()\n",
    "Mobile.fp=\"No\"\n",
    "print(\"Red:\", Mobile.fp)\n",
    "print(\"Blue:\", Mobile.fp)\n",
    "print(\"green:\", Mobile.fp)"
   ]
  },
  {
   "cell_type": "code",
   "execution_count": null,
   "id": "87ba7b1e",
   "metadata": {},
   "outputs": [],
   "source": []
  },
  {
   "cell_type": "code",
   "execution_count": 33,
   "id": "0a6d65a8",
   "metadata": {},
   "outputs": [],
   "source": [
    "def decoret(fun):\n",
    "    def inner():\n",
    "        print(\"if before enhancing 1\")\n",
    "        fun()\n",
    "        print(\"if after enhncing 4\")\n",
    "    return inner\n",
    "def num():\n",
    "    print(\"we will use  this function 2\")\n",
    "    print(\"and enhance 3\")\n"
   ]
  },
  {
   "cell_type": "code",
   "execution_count": 6,
   "id": "00f94d62",
   "metadata": {
    "scrolled": true
   },
   "outputs": [
    {
     "name": "stdout",
     "output_type": "stream",
     "text": [
      "if before enhancing 1\n",
      "we will use  this function 2\n",
      "and enhance 3\n",
      "if after enhncing 4\n"
     ]
    }
   ],
   "source": [
    "result=decoret(num)\n",
    "result()\n",
    "#print()\n",
    "#print(decoret(num))"
   ]
  },
  {
   "cell_type": "code",
   "execution_count": 7,
   "id": "c0a22b99",
   "metadata": {},
   "outputs": [],
   "source": [
    "def decoret(fun):\n",
    "    def inner():\n",
    "        print(\"if before enhancing 1\")\n",
    "        fun()\n",
    "        print(\"if after enhncing 4\")\n",
    "    return inner\n",
    "@decoret\n",
    "def num():\n",
    "    print(\"we will use  this function 2\")\n",
    "    print(\"and enhance 3\")"
   ]
  },
  {
   "cell_type": "code",
   "execution_count": 8,
   "id": "1dacf9ce",
   "metadata": {},
   "outputs": [
    {
     "name": "stdout",
     "output_type": "stream",
     "text": [
      "if before enhancing 1\n",
      "we will use  this function 2\n",
      "and enhance 3\n",
      "if after enhncing 4\n"
     ]
    }
   ],
   "source": [
    "#result() give same result\n",
    "num()"
   ]
  },
  {
   "cell_type": "code",
   "execution_count": 17,
   "id": "ba4b77d5",
   "metadata": {},
   "outputs": [],
   "source": [
    "def decore(fun):\n",
    "    def inner():\n",
    "        a=fun()\n",
    "        add=a+5\n",
    "        return add\n",
    "    return inner\n",
    "def num():\n",
    "    return 10\n"
   ]
  },
  {
   "cell_type": "code",
   "execution_count": 24,
   "id": "84511107",
   "metadata": {},
   "outputs": [
    {
     "name": "stdout",
     "output_type": "stream",
     "text": [
      "15\n",
      "<class 'int'>\n"
     ]
    }
   ],
   "source": [
    "result=decore(num)\n",
    "result()\n",
    "print(result())\n",
    "print(type(num()))"
   ]
  },
  {
   "cell_type": "code",
   "execution_count": 26,
   "id": "5ea8e842",
   "metadata": {},
   "outputs": [],
   "source": [
    "def decore(fun):\n",
    "    def inner():\n",
    "        a=fun()\n",
    "        add=a+5\n",
    "        return add\n",
    "    return inner\n",
    "@decore\n",
    "def num():\n",
    "    return 10"
   ]
  },
  {
   "cell_type": "code",
   "execution_count": 31,
   "id": "988c0a11",
   "metadata": {},
   "outputs": [
    {
     "name": "stdout",
     "output_type": "stream",
     "text": [
      "<function decore.<locals>.inner at 0x0000015D862574C0>\n"
     ]
    }
   ],
   "source": [
    "print(decore(num))\n",
    "#print(num())\n",
    "#print(type(num()))"
   ]
  },
  {
   "cell_type": "code",
   "execution_count": 316,
   "id": "826bb9d8",
   "metadata": {},
   "outputs": [],
   "source": [
    "def decore1(num): #step 1 after calling\n",
    "    def inner(): #2 will not run as it is not being called\n",
    "        b=num() #11 decore1(inner()) #12 returned 10 as int\n",
    "        multi=b*5 # 13  \n",
    "        return multi #14 retuen 50 \n",
    "    return inner # 3 \n",
    "def decore(num): #5\n",
    "    def inner(): # 6\n",
    "        a=num() # 10 decor(inner()) # 15 returned its called func 50\n",
    "        add=a+5 # 16 \n",
    "        return add # 17\n",
    "    return inner #7\n",
    "def num():\n",
    "    return 10 #11"
   ]
  },
  {
   "cell_type": "code",
   "execution_count": 317,
   "id": "59185ad1",
   "metadata": {},
   "outputs": [
    {
     "name": "stdout",
     "output_type": "stream",
     "text": [
      "55\n"
     ]
    }
   ],
   "source": [
    "result=decore((decore1(num))) # decore1 called #4 return back to called function  #8 return back \n",
    "print(result()) # 9 result() called which is equal now as inner() #18 returned 55"
   ]
  },
  {
   "cell_type": "code",
   "execution_count": 318,
   "id": "29932558",
   "metadata": {},
   "outputs": [],
   "source": [
    "# with decorator"
   ]
  },
  {
   "cell_type": "code",
   "execution_count": 8,
   "id": "cf020208",
   "metadata": {},
   "outputs": [],
   "source": [
    "def decore1(num): #step 1 after calling\n",
    "    def inner(): #2 will not run as it is not being called\n",
    "        b=num() #10 decore1(inner()) #12 returned 10 as int\n",
    "        multi=b*5 # 12  \n",
    "        return multi #13 retuen 50 \n",
    "    return inner # 3 \n",
    "def decore(num):\n",
    "    def inner(): # 5\n",
    "        a=num() # 9 decor(inner()) # 14 returned its called func 50\n",
    "        add=a+5 # 15 \n",
    "        return add # 16\n",
    "    return inner #6\n",
    "\n",
    "@decore\n",
    "@decore1\n",
    "def num():\n",
    "    return 10 #11"
   ]
  },
  {
   "cell_type": "code",
   "execution_count": 9,
   "id": "86f92632",
   "metadata": {},
   "outputs": [
    {
     "name": "stdout",
     "output_type": "stream",
     "text": [
      "55\n"
     ]
    }
   ],
   "source": [
    "print(num())"
   ]
  },
  {
   "cell_type": "code",
   "execution_count": 10,
   "id": "f441c05e",
   "metadata": {},
   "outputs": [],
   "source": [
    "def decore1(num): #step 1 after calling\n",
    "    def inner(): #2 will not run as it is not being called\n",
    "        b=num() #10 decore1(inner()) #12 returned 10 as int\n",
    "        multi=b*5 # 12  \n",
    "        return multi #13 retuen 50 \n",
    "    return inner # 3 \n",
    "def decore(num):\n",
    "    def inner(): # 5\n",
    "        a=num() # 9 decor(inner()) # 14 returned its called func 50\n",
    "        add=a+5 # 15 \n",
    "        return add # 16\n",
    "    return inner #6\n",
    "\n",
    "@decore1\n",
    "@decore\n",
    "def num():\n",
    "    return 10 #11"
   ]
  },
  {
   "cell_type": "code",
   "execution_count": 11,
   "id": "54acf58f",
   "metadata": {},
   "outputs": [
    {
     "name": "stdout",
     "output_type": "stream",
     "text": [
      "75\n"
     ]
    }
   ],
   "source": [
    "print(num())"
   ]
  },
  {
   "cell_type": "code",
   "execution_count": 22,
   "id": "c7a5b0c0",
   "metadata": {},
   "outputs": [],
   "source": [
    "#Class method & static method \n"
   ]
  },
  {
   "cell_type": "code",
   "execution_count": 3,
   "id": "95983736",
   "metadata": {},
   "outputs": [],
   "source": [
    "class Mobile:\n",
    "    fp=\"yes\"\n",
    "    @classmethod\n",
    "    def show_model(cls, r):\n",
    "        cls.ram=r\n",
    "        print(\"Finger print\", cls.fp)\n",
    "        print(\"ram\", cls.ram)"
   ]
  },
  {
   "cell_type": "code",
   "execution_count": 4,
   "id": "d8c193db",
   "metadata": {},
   "outputs": [
    {
     "name": "stdout",
     "output_type": "stream",
     "text": [
      "Finger print yes\n",
      "ram 4\n"
     ]
    }
   ],
   "source": [
    "redme= Mobile()\n",
    "Mobile.show_model(4)"
   ]
  },
  {
   "cell_type": "code",
   "execution_count": 8,
   "id": "df617c3d",
   "metadata": {},
   "outputs": [],
   "source": [
    "class Mobile:\n",
    "    fp=\"yes\"\n",
    "    @staticmethod\n",
    "    def show_model(m, p):\n",
    "        model=m\n",
    "        price=p\n",
    "        print(\"Model:\", model, \"Price:\", price)\n",
    "        "
   ]
  },
  {
   "cell_type": "code",
   "execution_count": 11,
   "id": "56903ae5",
   "metadata": {},
   "outputs": [
    {
     "name": "stdout",
     "output_type": "stream",
     "text": [
      "Model: RealMe Price: 1000\n"
     ]
    }
   ],
   "source": [
    "realme=Mobile()\n",
    "Mobile.show_model(\"RealMe\", 1000)\n",
    "#realme.show_model(\"RealMe\", 1000) # can be access but mosylt access through funcName Mobile()"
   ]
  },
  {
   "cell_type": "code",
   "execution_count": 25,
   "id": "8eac0848",
   "metadata": {},
   "outputs": [],
   "source": [
    "class Student:\n",
    "    def __init__(self, n, r): #Constructor\n",
    "        self.name=n\n",
    "        self.roll=r\n",
    "    def disp(self): #instance method\n",
    "        print(\"Student Name:\", self.name)\n",
    "        print(\"Student Roll:\", self.roll)\n",
    "class User:\n",
    "    #static method\n",
    "    @staticmethod\n",
    "    def show(s):\n",
    "        \n",
    "        print(\"User Name:\", s.name)\n",
    "        print(\"User Roll:\", s.roll)\n",
    "        #s.disp()\n",
    "        \n",
    "        "
   ]
  },
  {
   "cell_type": "code",
   "execution_count": 26,
   "id": "e6a0477a",
   "metadata": {},
   "outputs": [
    {
     "name": "stdout",
     "output_type": "stream",
     "text": [
      "User Name: Ali\n",
      "User Roll: 101\n"
     ]
    }
   ],
   "source": [
    "stu=Student(\"Ali\", 101)\n",
    "User.show(stu)"
   ]
  },
  {
   "cell_type": "code",
   "execution_count": null,
   "id": "0211f6d8",
   "metadata": {},
   "outputs": [],
   "source": [
    "#Nested Class"
   ]
  },
  {
   "cell_type": "code",
   "execution_count": 33,
   "id": "8047eb47",
   "metadata": {},
   "outputs": [],
   "source": [
    "class Army: # Outer class\n",
    "    def __init__(self): #Constructor\n",
    "        self.name=\"Ali\"\n",
    "        self.gn=self.Gun() # inner class Object gn\n",
    "    def show(self): #instance method\n",
    "        print(\"Name:\", self.name)\n",
    "     \n",
    "    class Gun(): #inner class\n",
    "        \n",
    "   \n",
    "        def __init__(self): #Constructor\n",
    "            self.name=\"Ak 47\"\n",
    "            self.capacity='75 rounds'\n",
    "            self.length=\"34.3 Inches\"\n",
    "        def disp(self):\n",
    "            \n",
    "            print(\"Gun Name:\", self.name)\n",
    "            print(\"Capacity:\", self.capacity)\n",
    "            print(\"Length:\", self.length)\n",
    "           \n",
    "       \n",
    "        "
   ]
  },
  {
   "cell_type": "code",
   "execution_count": 42,
   "id": "966f8b9c",
   "metadata": {},
   "outputs": [
    {
     "name": "stdout",
     "output_type": "stream",
     "text": [
      "Ali\n",
      "\n",
      "Ak 47\n",
      "\n",
      "Ak 47\n",
      "75 rounds\n",
      "34.3 Inches\n",
      "\n",
      "Gun Name: Ak 47\n",
      "Capacity: 75 rounds\n",
      "Length: 34.3 Inches\n"
     ]
    }
   ],
   "source": [
    "a=Army() #outer class object\n",
    "print(a.name) # accessing outer class instance variable\n",
    "print()\n",
    "print(a.gn.name) #accessing inner class instance variable through inner object a and outer object gn\n",
    "print()\n",
    "g=a.gn # to make short for our self\n",
    "print(g.name) #accessing inner class instance variable same as above\n",
    "print(g.capacity)\n",
    "print(g.length)\n",
    "print()\n",
    "g.disp()"
   ]
  },
  {
   "cell_type": "code",
   "execution_count": null,
   "id": "dae0c934",
   "metadata": {},
   "outputs": [],
   "source": [
    "class Army: # Outer class\n",
    "    def __init__(self): #Constructor\n",
    "        self.name=\"Ali\"\n",
    "        #self.gn=self.Gun() # inner class Object gn\n",
    "    def show(self): #instance method\n",
    "        print(\"Name:\", self.name)\n",
    "     \n",
    "    class Gun(): #inner class\n",
    "        \n",
    "   \n",
    "        def __init__(self): #Constructor\n",
    "            self.name=\"Ak 47\"\n",
    "            self.capacity='75 rounds'\n",
    "            self.length=\"34.3 Inches\"\n",
    "        def disp(self):\n",
    "            \n",
    "            print(\"Gun Name:\", self.name)\n",
    "            print(\"Capacity:\", self.capacity)\n",
    "            print(\"Length:\", self.length)\n",
    "           "
   ]
  },
  {
   "cell_type": "code",
   "execution_count": 43,
   "id": "ec40dbdf",
   "metadata": {},
   "outputs": [
    {
     "name": "stdout",
     "output_type": "stream",
     "text": [
      "Ali\n",
      "\n",
      "Ak 47\n",
      "75 rounds\n",
      "34.3 Inches\n",
      "\n",
      "Gun Name: Ak 47\n",
      "Capacity: 75 rounds\n",
      "Length: 34.3 Inches\n"
     ]
    }
   ],
   "source": [
    "a=Army() #outer class object\n",
    "print(a.name) # accessing outer class instance variable\n",
    "print()\n",
    "g=Army().Gun() # to create inner class object out of class\n",
    "print(g.name) #accessing inner class instance variable same as above\n",
    "print(g.capacity)\n",
    "print(g.length)\n",
    "print()\n",
    "g.disp()"
   ]
  },
  {
   "cell_type": "code",
   "execution_count": null,
   "id": "1c68ff14",
   "metadata": {},
   "outputs": [],
   "source": []
  },
  {
   "cell_type": "code",
   "execution_count": null,
   "id": "73a9601b",
   "metadata": {},
   "outputs": [],
   "source": []
  },
  {
   "cell_type": "code",
   "execution_count": null,
   "id": "1af1b68e",
   "metadata": {},
   "outputs": [],
   "source": [
    "#Single Ineritance"
   ]
  },
  {
   "cell_type": "code",
   "execution_count": 52,
   "id": "d542965b",
   "metadata": {},
   "outputs": [],
   "source": [
    "class Father:\n",
    "    money= 1000\n",
    "    def show(self):\n",
    "        print(\"Parent class instance method 1\")\n",
    "    @classmethod\n",
    "    def showmoney(cls):\n",
    "        print(\"parent class class method 2\", cls.money)\n",
    "    @staticmethod\n",
    "    def stat():\n",
    "        a=10\n",
    "        print('parent class Static method 4', a)\n",
    "class Son(Father):\n",
    "    def disp(self):\n",
    "        print(\"child class instance method 3\")"
   ]
  },
  {
   "cell_type": "code",
   "execution_count": 53,
   "id": "570a871a",
   "metadata": {},
   "outputs": [
    {
     "name": "stdout",
     "output_type": "stream",
     "text": [
      "child class instance method 3\n",
      "Parent class instance method 1\n",
      "parent class class method 2 1000\n",
      "parent class Static method 4 10\n"
     ]
    }
   ],
   "source": [
    "s=Son()\n",
    "s.disp()\n",
    "s.show()\n",
    "s.showmoney()\n",
    "s.stat()\n"
   ]
  },
  {
   "cell_type": "code",
   "execution_count": 55,
   "id": "2677e15f",
   "metadata": {},
   "outputs": [
    {
     "name": "stdout",
     "output_type": "stream",
     "text": [
      "Parent class instance method 1\n",
      "parent class class method 2 1000\n",
      "parent class Static method 4 10\n"
     ]
    }
   ],
   "source": [
    "f=Father()\n",
    "f.show()\n",
    "f.showmoney()\n",
    "f.stat()\n",
    "#f.disp() # child class method cannot be accessed by father class\n"
   ]
  },
  {
   "cell_type": "code",
   "execution_count": 56,
   "id": "6eba8c54",
   "metadata": {},
   "outputs": [],
   "source": [
    "class Dog():\n",
    "    species =\"mammal\"\n",
    "    def __init__(self, breed, name, spots):\n",
    "        self.breed=breed\n",
    "        self.name=name\n",
    "        self.spots=spots\n",
    "        "
   ]
  },
  {
   "cell_type": "code",
   "execution_count": 60,
   "id": "fe553e36",
   "metadata": {},
   "outputs": [],
   "source": [
    "mydog=Dog(breed=\"Lab\", name=\"Sammy\", spots=True)\n"
   ]
  },
  {
   "cell_type": "code",
   "execution_count": 61,
   "id": "1f555b71",
   "metadata": {},
   "outputs": [
    {
     "data": {
      "text/plain": [
       "'Lab'"
      ]
     },
     "execution_count": 61,
     "metadata": {},
     "output_type": "execute_result"
    }
   ],
   "source": [
    "mydog.breed"
   ]
  },
  {
   "cell_type": "code",
   "execution_count": 119,
   "id": "eed58887",
   "metadata": {},
   "outputs": [],
   "source": [
    "#polymorphuis\n",
    "class Animal:\n",
    "    def __init__(self, name):\n",
    "        self.name=name\n",
    "    def speak(self):\n",
    "        raise NotImplementedError(\"Subclass must implement this abstract method\")\n",
    "        \n",
    "        \n",
    "    "
   ]
  },
  {
   "cell_type": "code",
   "execution_count": 120,
   "id": "988ed32f",
   "metadata": {},
   "outputs": [],
   "source": [
    "class Dog(Animal):\n",
    "    def speak(self):\n",
    "        return self.name+ \" says woof\"\n",
    "    "
   ]
  },
  {
   "cell_type": "code",
   "execution_count": 121,
   "id": "7d3b9404",
   "metadata": {},
   "outputs": [],
   "source": [
    "class Cat(Animal):\n",
    "    def speak(self):\n",
    "        return self.name+ \" says mew\""
   ]
  },
  {
   "cell_type": "code",
   "execution_count": 122,
   "id": "bad83eda",
   "metadata": {},
   "outputs": [],
   "source": [
    "sammy=Dog(\"sai\")"
   ]
  },
  {
   "cell_type": "code",
   "execution_count": 123,
   "id": "cb4a1c51",
   "metadata": {},
   "outputs": [],
   "source": [
    "dammy=Cat(\"dai\")"
   ]
  },
  {
   "cell_type": "code",
   "execution_count": 124,
   "id": "654ce183",
   "metadata": {},
   "outputs": [
    {
     "name": "stdout",
     "output_type": "stream",
     "text": [
      "sai says woof\n",
      "sai\n"
     ]
    }
   ],
   "source": [
    "print(sammy.speak())\n",
    "print(sammy.name)"
   ]
  },
  {
   "cell_type": "code",
   "execution_count": 125,
   "id": "e5aa2121",
   "metadata": {},
   "outputs": [
    {
     "name": "stdout",
     "output_type": "stream",
     "text": [
      "dai says mew\n"
     ]
    }
   ],
   "source": [
    "print(dammy.speak())\n",
    "\n"
   ]
  },
  {
   "cell_type": "code",
   "execution_count": null,
   "id": "0c497152",
   "metadata": {},
   "outputs": [],
   "source": []
  },
  {
   "cell_type": "code",
   "execution_count": null,
   "id": "15c37979",
   "metadata": {},
   "outputs": [],
   "source": []
  },
  {
   "cell_type": "code",
   "execution_count": null,
   "id": "60866d90",
   "metadata": {},
   "outputs": [],
   "source": []
  },
  {
   "cell_type": "code",
   "execution_count": null,
   "id": "aed55e5d",
   "metadata": {},
   "outputs": [],
   "source": []
  },
  {
   "cell_type": "code",
   "execution_count": 71,
   "id": "cb3f2f67",
   "metadata": {},
   "outputs": [],
   "source": [
    "#duck typing\n",
    "class Duck:\n",
    "    def walk(self):\n",
    "        print(\"thapak thpak\")\n",
    "class Horse:\n",
    "    def walk(self):\n",
    "        print(\"tapdak tapdak\")\n",
    "class cat():\n",
    "    def talk(self):\n",
    "        print(\"mew mew\")\n"
   ]
  },
  {
   "cell_type": "code",
   "execution_count": 72,
   "id": "bf3e8c55",
   "metadata": {},
   "outputs": [],
   "source": [
    "def myfunc(obj):\n",
    "    obj.walk()"
   ]
  },
  {
   "cell_type": "code",
   "execution_count": 73,
   "id": "224ae7de",
   "metadata": {},
   "outputs": [
    {
     "name": "stdout",
     "output_type": "stream",
     "text": [
      "thapak thpak\n"
     ]
    }
   ],
   "source": [
    "d=Duck()\n",
    "myfunc(d)"
   ]
  },
  {
   "cell_type": "code",
   "execution_count": 75,
   "id": "df14729e",
   "metadata": {},
   "outputs": [
    {
     "name": "stdout",
     "output_type": "stream",
     "text": [
      "tapdak tapdak\n"
     ]
    }
   ],
   "source": [
    "h=Horse()\n",
    "myfunc(h)"
   ]
  },
  {
   "cell_type": "code",
   "execution_count": 77,
   "id": "2262ea81",
   "metadata": {},
   "outputs": [],
   "source": [
    "c=cat()\n",
    "#myfunc(c) give error bcz we have not defined walk( ) method there\n"
   ]
  },
  {
   "cell_type": "code",
   "execution_count": 78,
   "id": "7fafa116",
   "metadata": {},
   "outputs": [],
   "source": [
    "# strong typing: to check if given method is present as passing obj or not to avoid error\n"
   ]
  },
  {
   "cell_type": "code",
   "execution_count": 79,
   "id": "4dfa1104",
   "metadata": {},
   "outputs": [],
   "source": [
    "class Duck:\n",
    "    def walk(self):\n",
    "        print(\"thapak thpak\")\n",
    "class Horse:\n",
    "    def walk(self):\n",
    "        print(\"tapdak tapdak\")\n",
    "class cat():\n",
    "    def talk(self):\n",
    "        print(\"mew mew\")\n"
   ]
  },
  {
   "cell_type": "code",
   "execution_count": 84,
   "id": "fad0ef4f",
   "metadata": {},
   "outputs": [],
   "source": [
    "def myfunc(obj):\n",
    "    if hasattr(obj, \"walk\"):\n",
    "        obj.walk()\n",
    "    if hasattr(obj, \"talk\"):\n",
    "        obj.talk()"
   ]
  },
  {
   "cell_type": "code",
   "execution_count": 85,
   "id": "832ffba1",
   "metadata": {},
   "outputs": [
    {
     "name": "stdout",
     "output_type": "stream",
     "text": [
      "thapak thpak\n",
      "\n",
      "tapdak tapdak\n",
      "\n",
      "mew mew\n"
     ]
    }
   ],
   "source": [
    "d=Duck()\n",
    "myfunc(d)\n",
    "print()\n",
    "h=Horse()\n",
    "myfunc(h)\n",
    "print()\n",
    "c=cat() #even this method walk() is not present in class instance method it will not give error \n",
    "myfunc(c)"
   ]
  },
  {
   "cell_type": "code",
   "execution_count": 86,
   "id": "c5d8f109",
   "metadata": {},
   "outputs": [
    {
     "name": "stdout",
     "output_type": "stream",
     "text": [
      "30\n"
     ]
    }
   ],
   "source": [
    "print(int.__add__(10,20))"
   ]
  },
  {
   "cell_type": "code",
   "execution_count": 105,
   "id": "33b1c3a6",
   "metadata": {},
   "outputs": [],
   "source": [
    " class A:\n",
    "        def __init__(self, x):\n",
    "            self.x=x\n",
    "        #def __add__(self, other):\n",
    "            #return self.x+other.y\n",
    "class B:\n",
    "    def __init__(self,y):\n",
    "        self.y=y\n",
    "    def __add__(self, other):\n",
    "        return self.y + other.x\n"
   ]
  },
  {
   "cell_type": "code",
   "execution_count": 106,
   "id": "23fec81a",
   "metadata": {},
   "outputs": [
    {
     "name": "stdout",
     "output_type": "stream",
     "text": [
      "20\n"
     ]
    }
   ],
   "source": [
    "a=A(10)\n",
    "b=B(10)\n",
    "print(b+a)"
   ]
  },
  {
   "cell_type": "code",
   "execution_count": 137,
   "id": "8147d05f",
   "metadata": {},
   "outputs": [],
   "source": [
    "# magic or dunder methods\n",
    "class Book:\n",
    "    def __init__(self, title, author, pages):\n",
    "        self.title=title\n",
    "        self.author=author\n",
    "        self.pages=pages\n",
    "        "
   ]
  },
  {
   "cell_type": "code",
   "execution_count": 138,
   "id": "3604c257",
   "metadata": {},
   "outputs": [
    {
     "name": "stdout",
     "output_type": "stream",
     "text": [
      "<__main__.Book object at 0x000001A80448A790>\n"
     ]
    }
   ],
   "source": [
    "b=Book(\"Python\", \"jose\", 200)\n",
    "print((b))"
   ]
  },
  {
   "cell_type": "code",
   "execution_count": 150,
   "id": "2c3207cc",
   "metadata": {},
   "outputs": [],
   "source": [
    "class Book:\n",
    "    def __init__(self, title, author, pages):\n",
    "        self.title=title\n",
    "        self.author=author\n",
    "        self.pages=pages\n",
    "    def __str__(self):\n",
    "        return f'{self.title} by {self.author}'\n",
    "    def __len__(self):\n",
    "        return self.pages\n",
    "    def __del__(self):\n",
    "        print(\"A book object has been deleted\")"
   ]
  },
  {
   "cell_type": "code",
   "execution_count": 151,
   "id": "25124cd4",
   "metadata": {},
   "outputs": [
    {
     "name": "stdout",
     "output_type": "stream",
     "text": [
      "Python by jose\n",
      "\n"
     ]
    },
    {
     "data": {
      "text/plain": [
       "'Python by jose'"
      ]
     },
     "execution_count": 151,
     "metadata": {},
     "output_type": "execute_result"
    }
   ],
   "source": [
    "b=Book(\"Python\", \"jose\", 200)\n",
    "print((b))\n",
    "print()\n",
    "str(b)"
   ]
  },
  {
   "cell_type": "code",
   "execution_count": 152,
   "id": "80665c3e",
   "metadata": {},
   "outputs": [
    {
     "data": {
      "text/plain": [
       "200"
      ]
     },
     "execution_count": 152,
     "metadata": {},
     "output_type": "execute_result"
    }
   ],
   "source": [
    "len(b)"
   ]
  },
  {
   "cell_type": "code",
   "execution_count": 153,
   "id": "3bfc38d7",
   "metadata": {},
   "outputs": [
    {
     "name": "stdout",
     "output_type": "stream",
     "text": [
      "A book object has been deleted\n"
     ]
    }
   ],
   "source": [
    "del b"
   ]
  },
  {
   "cell_type": "code",
   "execution_count": 155,
   "id": "4f9fe49c",
   "metadata": {},
   "outputs": [],
   "source": [
    "#print(b) gives error now"
   ]
  },
  {
   "cell_type": "code",
   "execution_count": null,
   "id": "e2eebdda",
   "metadata": {},
   "outputs": [],
   "source": []
  }
 ],
 "metadata": {
  "kernelspec": {
   "display_name": "Python 3 (ipykernel)",
   "language": "python",
   "name": "python3"
  },
  "language_info": {
   "codemirror_mode": {
    "name": "ipython",
    "version": 3
   },
   "file_extension": ".py",
   "mimetype": "text/x-python",
   "name": "python",
   "nbconvert_exporter": "python",
   "pygments_lexer": "ipython3",
   "version": "3.9.12"
  }
 },
 "nbformat": 4,
 "nbformat_minor": 5
}
