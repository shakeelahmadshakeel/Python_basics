{
 "cells": [
  {
   "cell_type": "code",
   "execution_count": 4,
   "id": "4e68bacd",
   "metadata": {},
   "outputs": [
    {
     "name": "stdout",
     "output_type": "stream",
     "text": [
      "unsupported operand type(s) for ** or pow(): 'str' and 'int'\n"
     ]
    }
   ],
   "source": [
    "#Handle the exception thrown by the code below by using try and except blocks.\n",
    "try:\n",
    "    for i in ['a','b','c']:\n",
    "        print(i**2)\n",
    "    #except TypeError: gives same answer\n",
    "except:\n",
    "    print(\"unsupported operand type(s) for ** or pow(): 'str' and 'int'\")\n"
   ]
  },
  {
   "cell_type": "code",
   "execution_count": 7,
   "id": "ad992329",
   "metadata": {},
   "outputs": [
    {
     "name": "stdout",
     "output_type": "stream",
     "text": [
      "division by zero is not allowed\n",
      "All Done.\n"
     ]
    }
   ],
   "source": [
    "#Handle the exception thrown by the code below by using try and except blocks. Then use a finally block to print 'All Done.'\n",
    "x = 5\n",
    "y = 0\n",
    "\n",
    "try:\n",
    "    z = x/y\n",
    "except ZeroDivisionError:\n",
    "    print(\"division by zero is not allowed\")\n",
    "finally:\n",
    "    print(\"All Done.\")\n",
    "    \n",
    "\n"
   ]
  },
  {
   "cell_type": "code",
   "execution_count": 1,
   "id": "1f0334f0",
   "metadata": {},
   "outputs": [],
   "source": [
    "#Write a function that asks for an integer and prints the square of it. Use a while loop with a try, \n",
    "#except, else block to account for incorrect inputs.\n",
    "\n",
    "def ask():\n",
    "    while True:\n",
    "        try:\n",
    "            a=int(input(\"Input an Integer:\"))**2\n",
    "            #print(a)\n",
    "        except:\n",
    "            print(\"An error occured, please try again\")\n",
    "        else:\n",
    "            print(\"Thank you, your number squared is:\", a)\n",
    "            break\n",
    "    "
   ]
  },
  {
   "cell_type": "code",
   "execution_count": 2,
   "id": "eba43cc6",
   "metadata": {},
   "outputs": [
    {
     "name": "stdout",
     "output_type": "stream",
     "text": [
      "Input an Integer:a\n",
      "An error occured, please try again\n",
      "Input an Integer:2\n",
      "Thank you, your number squared is: 4\n"
     ]
    }
   ],
   "source": [
    "ask()"
   ]
  },
  {
   "cell_type": "code",
   "execution_count": null,
   "id": "b1097197",
   "metadata": {},
   "outputs": [],
   "source": []
  }
 ],
 "metadata": {
  "kernelspec": {
   "display_name": "Python 3 (ipykernel)",
   "language": "python",
   "name": "python3"
  },
  "language_info": {
   "codemirror_mode": {
    "name": "ipython",
    "version": 3
   },
   "file_extension": ".py",
   "mimetype": "text/x-python",
   "name": "python",
   "nbconvert_exporter": "python",
   "pygments_lexer": "ipython3",
   "version": "3.9.12"
  }
 },
 "nbformat": 4,
 "nbformat_minor": 5
}
